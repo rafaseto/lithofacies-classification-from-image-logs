{
 "cells": [
  {
   "cell_type": "code",
   "execution_count": 13,
   "id": "fdeae8ef",
   "metadata": {},
   "outputs": [],
   "source": [
    "import pandas as pd\n",
    "import seaborn as sns\n",
    "import matplotlib.pyplot as plt\n",
    "import numpy as np"
   ]
  },
  {
   "cell_type": "markdown",
   "id": "7c25e453",
   "metadata": {},
   "source": [
    "### Loading the data"
   ]
  },
  {
   "cell_type": "code",
   "execution_count": 2,
   "id": "5fc8c319",
   "metadata": {},
   "outputs": [],
   "source": [
    "df = pd.read_csv(\"BRSA_778_cast_gr_rhob_drho_hdrs_nphi_pe_dt.csv\")"
   ]
  },
  {
   "cell_type": "markdown",
   "id": "b30d133a",
   "metadata": {},
   "source": [
    "### Removing lines with None"
   ]
  },
  {
   "cell_type": "code",
   "execution_count": 3,
   "id": "f08565ed",
   "metadata": {},
   "outputs": [],
   "source": [
    "df = df[756:26279]"
   ]
  },
  {
   "cell_type": "markdown",
   "id": "9b574c7e",
   "metadata": {},
   "source": [
    "### Reset the index of the df"
   ]
  },
  {
   "cell_type": "code",
   "execution_count": 4,
   "id": "533616e4",
   "metadata": {},
   "outputs": [],
   "source": [
    "df = df.reset_index(drop=True)"
   ]
  },
  {
   "cell_type": "markdown",
   "id": "c54488c5",
   "metadata": {},
   "source": [
    "### Taking a closer look at the `energy`"
   ]
  },
  {
   "cell_type": "code",
   "execution_count": null,
   "id": "4f373221",
   "metadata": {},
   "outputs": [],
   "source": [
    "\"\"\" \n",
    "plt.figure(dpi=300)\n",
    "\n",
    "sns.histplot(df['energy'], color='darkgreen')\n",
    "plt.title(\"Energia - Original\")\n",
    "\"\"\""
   ]
  },
  {
   "cell_type": "code",
   "execution_count": null,
   "id": "4f91c9ae",
   "metadata": {},
   "outputs": [],
   "source": [
    "\"\"\"\n",
    "plt.figure(dpi=300)\n",
    "\n",
    "sns.histplot(np.log10(df['energy']), color='darkgreen')\n",
    "plt.title(\"Energia - Logaritmo Natural\")\n",
    "\"\"\""
   ]
  },
  {
   "cell_type": "code",
   "execution_count": null,
   "id": "7aae4379",
   "metadata": {},
   "outputs": [],
   "source": [
    "\"\"\"\n",
    "# Define o tema uma vez\n",
    "sns.set_theme(style=\"whitegrid\")\n",
    "\n",
    "# Cria figura com 1 linha e 2 colunas de subplots\n",
    "fig, axes = plt.subplots(\n",
    "    nrows=1, ncols=2, \n",
    "    figsize=(10, 8),   # largura x altura em polegadas\n",
    "    dpi=300\n",
    ")\n",
    "\n",
    "# Propriedades dos outliers\n",
    "flier_props = dict(marker='o', alpha=0.3)\n",
    "\n",
    "# 1º boxplot: energia no escala log2\n",
    "sns.boxplot(\n",
    "    y=np.log10(df['energy']),\n",
    "    fill=False,\n",
    "    linewidth=1,\n",
    "    color='darkblue',\n",
    "    flierprops=flier_props,\n",
    "    ax=axes[1]           # desenha no primeiro eixo\n",
    ")\n",
    "axes[1].set_xlabel(\"BRSA_778\", fontsize=12)\n",
    "axes[1].set_ylabel(\"Log10(Energy)\", fontsize=12)\n",
    "axes[1].set_title(\"Boxplot Energy (Log10) - BRSA_778\", fontsize=14)\n",
    "\n",
    "# 2º boxplot: energia original\n",
    "sns.boxplot(\n",
    "    y=df['energy'],\n",
    "    fill=False,\n",
    "    linewidth=1,\n",
    "    color='darkgreen',\n",
    "    flierprops=flier_props,\n",
    "    ax=axes[0]           # desenha no segundo eixo\n",
    ")\n",
    "axes[0].set_xlabel(\"BRSA_778\", fontsize=12)\n",
    "axes[0].set_ylabel(\"Energy (Original)\", fontsize=12)\n",
    "axes[0].set_title(\"Boxplot Energy - BRSA_778\", fontsize=14)\n",
    "\n",
    "# Ajusta espaços automaticamente\n",
    "plt.tight_layout()\n",
    "\n",
    "plt.savefig(\"boxplots/boxplot_BRSA_778_energy_comparison.png\", dpi=300)\n",
    "\n",
    "plt.show()\n",
    "\"\"\""
   ]
  },
  {
   "cell_type": "markdown",
   "id": "0b78028b",
   "metadata": {},
   "source": [
    "### Plotting the boxplots"
   ]
  },
  {
   "cell_type": "code",
   "execution_count": 29,
   "id": "13d4d209",
   "metadata": {},
   "outputs": [
    {
     "data": {
      "text/plain": [
       "'\\ntexture_props_df = df[texture_props]\\n'"
      ]
     },
     "execution_count": 29,
     "metadata": {},
     "output_type": "execute_result"
    }
   ],
   "source": [
    "\n",
    "texture_props = [\n",
    "    'contrast', \n",
    "    'dissimilarity', \n",
    "    'homogeneity', \n",
    "    'energy', \n",
    "    'correlation',\n",
    "    'entropy'\n",
    "]\n",
    "\"\"\"\n",
    "texture_props_df = df[texture_props]\n",
    "\"\"\""
   ]
  },
  {
   "cell_type": "code",
   "execution_count": null,
   "id": "b66ffac7",
   "metadata": {},
   "outputs": [],
   "source": [
    "\"\"\"\n",
    "for prop in texture_props:\n",
    "    sns.set_theme(style=\"whitegrid\")\n",
    "\n",
    "    plt.figure(dpi=300)\n",
    "\n",
    "    # Deixando os outliers meio transparentes\n",
    "    flier_props = dict(marker='o', alpha=0.3)\n",
    "\n",
    "    sns.boxplot(\n",
    "        y=texture_props_df[prop],\n",
    "        fill=False,\n",
    "        linewidth=1,\n",
    "        color='darkgreen',\n",
    "        flierprops=flier_props\n",
    "    )\n",
    "\n",
    "    prop_label = prop.capitalize()\n",
    "\n",
    "    plt.xlabel(\"BRSA_778\", fontsize=12)\n",
    "    plt.ylabel(prop_label, fontsize=12)\n",
    "    plt.title(f\"Boxplot {prop_label} - BRSA_778\", fontsize=14)\n",
    "    plt.tight_layout()\n",
    "    \n",
    "    plt.savefig(f'boxplots/boxplot_BRSA_778_{prop}.png', dpi=300)\n",
    "    \n",
    "    plt.show()\n",
    "    \"\"\"\n"
   ]
  },
  {
   "cell_type": "markdown",
   "id": "e32b1a8c",
   "metadata": {},
   "source": [
    "### Checking mean, median, etc for each variable"
   ]
  },
  {
   "cell_type": "code",
   "execution_count": 27,
   "id": "0c5d131f",
   "metadata": {},
   "outputs": [
    {
     "data": {
      "text/plain": [
       "'Contrast'"
      ]
     },
     "execution_count": 27,
     "metadata": {},
     "output_type": "execute_result"
    }
   ],
   "source": [
    "df['contrast'].name.capitalize()"
   ]
  },
  {
   "cell_type": "code",
   "execution_count": 33,
   "id": "e2b9966f",
   "metadata": {},
   "outputs": [],
   "source": [
    "def display_info(prop):\n",
    "    count = prop.count()\n",
    "\n",
    "    mean = prop.mean()\n",
    "\n",
    "    median = prop.median()\n",
    "\n",
    "    min_ = prop.min()\n",
    "\n",
    "    max_ = prop.max()\n",
    "\n",
    "    range = max_ - min_\n",
    "\n",
    "    std = prop.std()\n",
    "\n",
    "    cv = std / mean\n",
    "\n",
    "    skew = prop.skew()\n",
    "\n",
    "    print(\n",
    "        f\"\"\"\n",
    "        {prop.name.capitalize()}:\n",
    "        count: {count}\n",
    "        mean: {mean.round(2)}\n",
    "        median: {median.round(2)}\n",
    "        min: {min_.round(2)}\n",
    "        max: {max_.round(2)}\n",
    "        range: {range.round(2)}\n",
    "        std: {std.round(2)}\n",
    "        cv: {cv.round(2)}\n",
    "        skew: {skew.round(2)}\n",
    "        \\n\n",
    "        \"\"\"\n",
    "    )"
   ]
  },
  {
   "cell_type": "code",
   "execution_count": 34,
   "id": "9b5f47d7",
   "metadata": {},
   "outputs": [
    {
     "name": "stdout",
     "output_type": "stream",
     "text": [
      "\n",
      "        Contrast:\n",
      "        count: 25523\n",
      "        mean: 213.6\n",
      "        median: 152.32\n",
      "        min: 3.43\n",
      "        max: 848.74\n",
      "        range: 845.31\n",
      "        std: 160.83\n",
      "        cv: 0.75\n",
      "        skew: 1.02\n",
      "        \n",
      "\n",
      "        \n",
      "\n",
      "        Dissimilarity:\n",
      "        count: 25523\n",
      "        mean: 9.84\n",
      "        median: 8.8\n",
      "        min: 0.87\n",
      "        max: 22.46\n",
      "        range: 21.59\n",
      "        std: 4.05\n",
      "        cv: 0.41\n",
      "        skew: 0.49\n",
      "        \n",
      "\n",
      "        \n",
      "\n",
      "        Homogeneity:\n",
      "        count: 25523\n",
      "        mean: 0.14\n",
      "        median: 0.13\n",
      "        min: 0.04\n",
      "        max: 0.76\n",
      "        range: 0.71\n",
      "        std: 0.06\n",
      "        cv: 0.46\n",
      "        skew: 1.89\n",
      "        \n",
      "\n",
      "        \n",
      "\n",
      "        Energy:\n",
      "        count: 25523\n",
      "        mean: 0.04\n",
      "        median: 0.04\n",
      "        min: 0.03\n",
      "        max: 0.59\n",
      "        range: 0.57\n",
      "        std: 0.02\n",
      "        cv: 0.52\n",
      "        skew: 6.2\n",
      "        \n",
      "\n",
      "        \n",
      "\n",
      "        Correlation:\n",
      "        count: 25523\n",
      "        mean: 0.87\n",
      "        median: 0.88\n",
      "        min: 0.01\n",
      "        max: 1.0\n",
      "        range: 0.99\n",
      "        std: 0.06\n",
      "        cv: 0.07\n",
      "        skew: -0.93\n",
      "        \n",
      "\n",
      "        \n",
      "\n",
      "        Entropy:\n",
      "        count: 25523\n",
      "        mean: 6.85\n",
      "        median: 6.99\n",
      "        min: 2.61\n",
      "        max: 7.57\n",
      "        range: 4.96\n",
      "        std: 0.55\n",
      "        cv: 0.08\n",
      "        skew: -2.26\n",
      "        \n",
      "\n",
      "        \n"
     ]
    }
   ],
   "source": [
    "for prop in texture_props:\n",
    "    display_info(df[prop])"
   ]
  }
 ],
 "metadata": {
  "kernelspec": {
   "display_name": "venv",
   "language": "python",
   "name": "python3"
  },
  "language_info": {
   "codemirror_mode": {
    "name": "ipython",
    "version": 3
   },
   "file_extension": ".py",
   "mimetype": "text/x-python",
   "name": "python",
   "nbconvert_exporter": "python",
   "pygments_lexer": "ipython3",
   "version": "3.12.7"
  }
 },
 "nbformat": 4,
 "nbformat_minor": 5
}
