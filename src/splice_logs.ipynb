{
 "cells": [
  {
   "cell_type": "code",
   "execution_count": 2,
   "metadata": {},
   "outputs": [],
   "source": [
    "from utils.data_preprocessing import *\n",
    "import os"
   ]
  },
  {
   "cell_type": "code",
   "execution_count": 3,
   "metadata": {},
   "outputs": [],
   "source": [
    "base_path = os.path.join('..', 'data', 'dlis_preprocessed')\n",
    "csv_data = load_csv_files(base_path)"
   ]
  },
  {
   "cell_type": "code",
   "execution_count": 4,
   "metadata": {},
   "outputs": [
    {
     "name": "stdout",
     "output_type": "stream",
     "text": [
      "Arquivos de 1CSC 0001  SE que possuem GR:\n",
      "logical_file_0frame_0.csv\n",
      "logical_file_10frame_0.csv\n",
      "logical_file_11frame_0.csv\n",
      "logical_file_12frame_0.csv\n",
      "\n",
      "\n",
      "Arquivos de 1IDA 0001  SE que possuem GR:\n",
      "logical_file_5frame_0.csv\n",
      "\n",
      "\n",
      "Arquivos de 1IV  0002  SE que possuem GR:\n",
      "logical_file_0frame_0.csv\n",
      "logical_file_4frame_0.csv\n",
      "logical_file_7frame_0.csv\n",
      "logical_file_8frame_0.csv\n",
      "\n",
      "\n",
      "Arquivos de 1MO  0001  SE que possuem GR:\n",
      "logical_file_7frame_0.csv\n",
      "\n",
      "\n"
     ]
    }
   ],
   "source": [
    "gr_data = {}\n",
    "\n",
    "for well, w_dict in csv_data.items():\n",
    "    gr_data[well] = {}\n",
    "\n",
    "    print(f\"Arquivos de {well} que possuem GR:\")\n",
    "    for logical_file, lf_dict in w_dict.items():\n",
    "        gr_data[well][logical_file] = {}\n",
    "\n",
    "        for frame, df in lf_dict.items():\n",
    "            try:\n",
    "                gr_df = df[['GR', 'TDEP']]\n",
    "\n",
    "                gr_data[well][logical_file][frame] = gr_df\n",
    "\n",
    "                print(logical_file + frame)\n",
    "            except:\n",
    "                pass\n",
    "    \n",
    "    print(\"\\n\")"
   ]
  },
  {
   "cell_type": "code",
   "execution_count": 5,
   "metadata": {},
   "outputs": [
    {
     "name": "stderr",
     "output_type": "stream",
     "text": [
      "C:\\Users\\rafae\\AppData\\Local\\Temp\\ipykernel_31308\\3344277069.py:10: SettingWithCopyWarning: \n",
      "A value is trying to be set on a copy of a slice from a DataFrame\n",
      "\n",
      "See the caveats in the documentation: https://pandas.pydata.org/pandas-docs/stable/user_guide/indexing.html#returning-a-view-versus-a-copy\n",
      "  df.dropna(inplace=True)\n",
      "C:\\Users\\rafae\\AppData\\Local\\Temp\\ipykernel_31308\\3344277069.py:10: SettingWithCopyWarning: \n",
      "A value is trying to be set on a copy of a slice from a DataFrame\n",
      "\n",
      "See the caveats in the documentation: https://pandas.pydata.org/pandas-docs/stable/user_guide/indexing.html#returning-a-view-versus-a-copy\n",
      "  df.dropna(inplace=True)\n",
      "C:\\Users\\rafae\\AppData\\Local\\Temp\\ipykernel_31308\\3344277069.py:10: SettingWithCopyWarning: \n",
      "A value is trying to be set on a copy of a slice from a DataFrame\n",
      "\n",
      "See the caveats in the documentation: https://pandas.pydata.org/pandas-docs/stable/user_guide/indexing.html#returning-a-view-versus-a-copy\n",
      "  df.dropna(inplace=True)\n",
      "C:\\Users\\rafae\\AppData\\Local\\Temp\\ipykernel_31308\\3344277069.py:10: SettingWithCopyWarning: \n",
      "A value is trying to be set on a copy of a slice from a DataFrame\n",
      "\n",
      "See the caveats in the documentation: https://pandas.pydata.org/pandas-docs/stable/user_guide/indexing.html#returning-a-view-versus-a-copy\n",
      "  df.dropna(inplace=True)\n",
      "C:\\Users\\rafae\\AppData\\Local\\Temp\\ipykernel_31308\\3344277069.py:10: SettingWithCopyWarning: \n",
      "A value is trying to be set on a copy of a slice from a DataFrame\n",
      "\n",
      "See the caveats in the documentation: https://pandas.pydata.org/pandas-docs/stable/user_guide/indexing.html#returning-a-view-versus-a-copy\n",
      "  df.dropna(inplace=True)\n",
      "C:\\Users\\rafae\\AppData\\Local\\Temp\\ipykernel_31308\\3344277069.py:10: SettingWithCopyWarning: \n",
      "A value is trying to be set on a copy of a slice from a DataFrame\n",
      "\n",
      "See the caveats in the documentation: https://pandas.pydata.org/pandas-docs/stable/user_guide/indexing.html#returning-a-view-versus-a-copy\n",
      "  df.dropna(inplace=True)\n",
      "C:\\Users\\rafae\\AppData\\Local\\Temp\\ipykernel_31308\\3344277069.py:10: SettingWithCopyWarning: \n",
      "A value is trying to be set on a copy of a slice from a DataFrame\n",
      "\n",
      "See the caveats in the documentation: https://pandas.pydata.org/pandas-docs/stable/user_guide/indexing.html#returning-a-view-versus-a-copy\n",
      "  df.dropna(inplace=True)\n",
      "C:\\Users\\rafae\\AppData\\Local\\Temp\\ipykernel_31308\\3344277069.py:10: SettingWithCopyWarning: \n",
      "A value is trying to be set on a copy of a slice from a DataFrame\n",
      "\n",
      "See the caveats in the documentation: https://pandas.pydata.org/pandas-docs/stable/user_guide/indexing.html#returning-a-view-versus-a-copy\n",
      "  df.dropna(inplace=True)\n",
      "C:\\Users\\rafae\\AppData\\Local\\Temp\\ipykernel_31308\\3344277069.py:10: SettingWithCopyWarning: \n",
      "A value is trying to be set on a copy of a slice from a DataFrame\n",
      "\n",
      "See the caveats in the documentation: https://pandas.pydata.org/pandas-docs/stable/user_guide/indexing.html#returning-a-view-versus-a-copy\n",
      "  df.dropna(inplace=True)\n",
      "C:\\Users\\rafae\\AppData\\Local\\Temp\\ipykernel_31308\\3344277069.py:10: SettingWithCopyWarning: \n",
      "A value is trying to be set on a copy of a slice from a DataFrame\n",
      "\n",
      "See the caveats in the documentation: https://pandas.pydata.org/pandas-docs/stable/user_guide/indexing.html#returning-a-view-versus-a-copy\n",
      "  df.dropna(inplace=True)\n"
     ]
    }
   ],
   "source": [
    "max_tdeps = {}\n",
    "\n",
    "for well, w_dict in gr_data.items():\n",
    "    max_tdep = float('-inf')\n",
    "    \n",
    "    for logical_file, lf_dict in w_dict.items():\n",
    "        for frame, df in lf_dict.items():\n",
    "            try:\n",
    "                # Remove lines with NaN\n",
    "                df.dropna(inplace=True)\n",
    "\n",
    "                max_tdep = max(max_tdep, df['TDEP'].max())\n",
    "            except:\n",
    "                pass\n",
    "\n",
    "    max_tdeps[well] = max_tdep    \n",
    "    "
   ]
  },
  {
   "cell_type": "code",
   "execution_count": 21,
   "metadata": {},
   "outputs": [],
   "source": [
    "def find_next_df(w_dict, ref):\n",
    "    min_diff = float('inf')\n",
    "    closest_df = None\n",
    "    closest_value = None\n",
    "\n",
    "    for logical_file, lf_dict in w_dict.items():\n",
    "        for frame, df in lf_dict.items():\n",
    "            try:\n",
    "                # Calcula o valor mais próximo da referência no dataframe atual\n",
    "                first_tdep = df['TDEP'].min()\n",
    "                    \n",
    "                # Verifica se este valor é o mais próximo da referência até agora\n",
    "                if abs(first_tdep - ref) < min_diff:\n",
    "                    min_diff = abs(first_tdep - ref)\n",
    "                    closest_df = w_dict[logical_file][frame]\n",
    "            except:\n",
    "                pass\n",
    "\n",
    "    return closest_df"
   ]
  },
  {
   "cell_type": "code",
   "execution_count": 29,
   "metadata": {},
   "outputs": [],
   "source": [
    "def find_df_between(df_ref, w_dict):\n",
    "    ref_first_tdep = df_ref['TDEP'].min()\n",
    "    ref_last_tdep = df_ref['TDEP'].max()\n",
    "\n",
    "    for logical_file, lf_dict in w_dict.items():\n",
    "        for frame, df in lf_dict.items():\n",
    "            try:\n",
    "                first_tdep = df['TDEP'].min()\n",
    "                last_tdep = df['TDEP'].max()\n",
    "\n",
    "                if (\n",
    "                    (ref_first_tdep < first_tdep < ref_last_tdep) and \n",
    "                    (last_tdep > ref_last_tdep)\n",
    "                ):\n",
    "                    return df\n",
    "            except:\n",
    "                pass\n",
    "            \n",
    "    return None"
   ]
  },
  {
   "cell_type": "code",
   "execution_count": 30,
   "metadata": {},
   "outputs": [
    {
     "name": "stdout",
     "output_type": "stream",
     "text": [
      "1CSC 0001  SE: 1376.0\n",
      "1CSC 0001  SE: 1378.8\n",
      "1CSC 0001  SE: 2814.0\n",
      "1CSC 0001  SE: 2814.8\n",
      "1IDA 0001  SE: 3480.4\n",
      "1IV  0002  SE: 1846.0\n",
      "1IV  0002  SE: 1854.0\n",
      "1IV  0002  SE: 3051.0\n",
      "1IV  0002  SE: 3060.0\n",
      "1MO  0001  SE: 2817.8\n"
     ]
    }
   ],
   "source": [
    "spliced_data = {}\n",
    "curr_min_tdep = {}\n",
    "\n",
    "for well, w_dict in gr_data.items():\n",
    "    curr_min_tdep[well] = 0\n",
    "    curr_df = None\n",
    "    \n",
    "    while(curr_min_tdep[well] != max_tdeps[well]):\n",
    "        if curr_df is None:\n",
    "            curr_df = find_next_df(w_dict, curr_min_tdep[well])\n",
    "        elif find_df_between(curr_df, w_dict) is None:\n",
    "            curr_df = find_next_df(w_dict, curr_min_tdep[well])\n",
    "        else:\n",
    "            curr_df = find_df_between(curr_df, w_dict)\n",
    "        \n",
    "        curr_min_tdep[well] = curr_df['TDEP'].max()\n",
    "        print(f\"{well}: {curr_min_tdep[well]}\")"
   ]
  }
 ],
 "metadata": {
  "kernelspec": {
   "display_name": "venv",
   "language": "python",
   "name": "python3"
  },
  "language_info": {
   "codemirror_mode": {
    "name": "ipython",
    "version": 3
   },
   "file_extension": ".py",
   "mimetype": "text/x-python",
   "name": "python",
   "nbconvert_exporter": "python",
   "pygments_lexer": "ipython3",
   "version": "3.12.7"
  }
 },
 "nbformat": 4,
 "nbformat_minor": 2
}
