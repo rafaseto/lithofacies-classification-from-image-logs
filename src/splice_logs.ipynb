{
 "cells": [
  {
   "cell_type": "code",
   "execution_count": 1,
   "metadata": {},
   "outputs": [],
   "source": [
    "from utils.data_preprocessing import *\n",
    "import os"
   ]
  },
  {
   "cell_type": "code",
   "execution_count": 2,
   "metadata": {},
   "outputs": [],
   "source": [
    "base_path = os.path.join('..', 'data', 'dlis_preprocessed')\n",
    "csv_data = load_csv_files(base_path)"
   ]
  },
  {
   "cell_type": "code",
   "execution_count": 3,
   "metadata": {},
   "outputs": [],
   "source": [
    "df1 = csv_data['1IV  0002  SE']['logical_file_logical_file_0']['frame_frame_0.csv.csv']\n",
    "df2 = csv_data['1IV  0002  SE']['logical_file_logical_file_4']['frame_frame_0.csv.csv']\n",
    "df3 = csv_data['1IV  0002  SE']['logical_file_logical_file_7']['frame_frame_0.csv.csv']\n",
    "df4 = csv_data['1IV  0002  SE']['logical_file_logical_file_8']['frame_frame_0.csv.csv']\n",
    "dataframes = {\n",
    "    'df1': df1,\n",
    "    'df2': df2,\n",
    "    'df3': df3,\n",
    "    'df4': df4\n",
    "}\n",
    "\n",
    "\n",
    "# Cria uma lista para armazenar os dataframes ajustados com colunas uniformes\n",
    "spliced_data = []\n",
    "for nome, df in dataframes.items():\n",
    "    # Mantém a coluna 'profundidade' e 'caracteristica' com os mesmos nomes\n",
    "    spliced_data.append(df[['TDEP', 'GR']])\n",
    "\n",
    "# Concatenar os dataframes ao longo do eixo vertical\n",
    "df_concat = pd.concat(spliced_data)\n",
    "\n",
    "# Agrupar por 'profundidade' e manter o primeiro valor da característica para cada profundidade\n",
    "df_merged = df_concat.groupby('TDEP', as_index=False).first()"
   ]
  },
  {
   "cell_type": "code",
   "execution_count": 5,
   "metadata": {},
   "outputs": [],
   "source": [
    "file_path = '../data/dlis_spliced/test_IV.csv'\n",
    "\n",
    "os.makedirs(os.path.dirname(file_path), exist_ok=True)\n",
    "\n",
    "df_merged.to_csv(file_path, index=False)"
   ]
  }
 ],
 "metadata": {
  "kernelspec": {
   "display_name": "Python 3",
   "language": "python",
   "name": "python3"
  },
  "language_info": {
   "codemirror_mode": {
    "name": "ipython",
    "version": 3
   },
   "file_extension": ".py",
   "mimetype": "text/x-python",
   "name": "python",
   "nbconvert_exporter": "python",
   "pygments_lexer": "ipython3",
   "version": "3.10.2"
  }
 },
 "nbformat": 4,
 "nbformat_minor": 2
}
