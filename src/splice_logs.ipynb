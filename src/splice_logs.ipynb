{
 "cells": [
  {
   "cell_type": "code",
   "execution_count": 1,
   "metadata": {},
   "outputs": [],
   "source": [
    "from utils.data_preprocessing import *\n",
    "import os"
   ]
  },
  {
   "cell_type": "code",
   "execution_count": 2,
   "metadata": {},
   "outputs": [],
   "source": [
    "base_path = os.path.join('..', 'data', 'dlis_preprocessed')\n",
    "csv_data = load_csv_files(base_path)"
   ]
  },
  {
   "cell_type": "code",
   "execution_count": null,
   "metadata": {},
   "outputs": [
    {
     "name": "stdout",
     "output_type": "stream",
     "text": [
      "Arquivos de 1CSC 0001  SE que possuem GR:\n",
      "\n",
      "\n",
      "Arquivos de 1IDA 0001  SE que possuem GR:\n",
      "\n",
      "\n",
      "Arquivos de 1IV  0002  SE que possuem GR:\n",
      "\n",
      "\n",
      "Arquivos de 1MO  0001  SE que possuem GR:\n",
      "\n",
      "\n"
     ]
    }
   ],
   "source": [
    "gr_data = {}\n",
    "max_tdeps = {}\n",
    "\n",
    "for well, w_dict in csv_data.items():\n",
    "    gr_data[well] = {}\n",
    "    max_tdep = float('-inf')\n",
    "\n",
    "    print(f\"Arquivos de {well} que possuem GR:\")\n",
    "    for logical_file, lf_dict in w_dict.items():\n",
    "        gr_data[well][logical_file] = {}\n",
    "\n",
    "        for frame, df in lf_dict.items():\n",
    "            try:\n",
    "                gr_df = df[['GR', 'TDEP']]\n",
    "\n",
    "                gr_data[well][logical_file][frame] = gr_df\n",
    "\n",
    "                max_tdep = max(max_tdep, df['TDEP'].max())\n",
    "\n",
    "                print(logical_file + frame)\n",
    "            except:\n",
    "                pass\n",
    "    \n",
    "    max_tdeps[well] = max_tdep\n",
    "    print(\"\\n\")"
   ]
  }
 ],
 "metadata": {
  "kernelspec": {
   "display_name": "venv",
   "language": "python",
   "name": "python3"
  },
  "language_info": {
   "codemirror_mode": {
    "name": "ipython",
    "version": 3
   },
   "file_extension": ".py",
   "mimetype": "text/x-python",
   "name": "python",
   "nbconvert_exporter": "python",
   "pygments_lexer": "ipython3",
   "version": "3.12.7"
  }
 },
 "nbformat": 4,
 "nbformat_minor": 2
}
