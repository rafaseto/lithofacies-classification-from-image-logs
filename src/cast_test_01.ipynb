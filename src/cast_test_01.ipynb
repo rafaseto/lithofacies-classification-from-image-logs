{
 "cells": [
  {
   "cell_type": "code",
   "execution_count": 1,
   "id": "7404a5cc",
   "metadata": {},
   "outputs": [],
   "source": [
    "import pandas as pd\n",
    "import matplotlib.pyplot as plt"
   ]
  },
  {
   "cell_type": "markdown",
   "id": "7ed0ef3e",
   "metadata": {},
   "source": [
    "## Read the CSV file"
   ]
  },
  {
   "cell_type": "code",
   "execution_count": 3,
   "id": "a33e1f47",
   "metadata": {},
   "outputs": [],
   "source": [
    "cast_df = pd.read_csv(\"3-BRSA-778-SE_AMP [NONE].csv\")"
   ]
  },
  {
   "cell_type": "markdown",
   "id": "4f3d3830",
   "metadata": {},
   "source": [
    "## Extract the depth and AMP columns"
   ]
  },
  {
   "cell_type": "code",
   "execution_count": 7,
   "id": "c91705af",
   "metadata": {},
   "outputs": [],
   "source": [
    "depth = cast_df['MD']\n",
    "amp_cols = [col for col in cast_df.columns if col.startswith('3')]\n",
    "amps = cast_df[amp_cols].values"
   ]
  }
 ],
 "metadata": {
  "kernelspec": {
   "display_name": "venv",
   "language": "python",
   "name": "python3"
  },
  "language_info": {
   "codemirror_mode": {
    "name": "ipython",
    "version": 3
   },
   "file_extension": ".py",
   "mimetype": "text/x-python",
   "name": "python",
   "nbconvert_exporter": "python",
   "pygments_lexer": "ipython3",
   "version": "3.12.7"
  }
 },
 "nbformat": 4,
 "nbformat_minor": 5
}
