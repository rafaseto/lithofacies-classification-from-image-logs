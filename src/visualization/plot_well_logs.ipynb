{
 "cells": [
  {
   "cell_type": "code",
   "execution_count": 1,
   "metadata": {},
   "outputs": [],
   "source": [
    "import sys\n",
    "import pandas as pd\n",
    "import matplotlib.pyplot as plt\n",
    "import glob\n",
    "import os\n",
    "\n",
    "sys.path.append(os.path.abspath(os.path.join('..')))\n",
    "from utils.data_plotting import *\n",
    "from utils.data_preprocessing import *"
   ]
  },
  {
   "cell_type": "markdown",
   "metadata": {},
   "source": [
    "### Load the CSV data into pandas dataframes"
   ]
  },
  {
   "cell_type": "code",
   "execution_count": 2,
   "metadata": {},
   "outputs": [],
   "source": [
    "base_path = os.path.join('..', '..', 'data', 'dlis_preprocessed')\n",
    "csv_data = load_csv_files(base_path)"
   ]
  },
  {
   "cell_type": "markdown",
   "metadata": {},
   "source": [
    "### Create dataframes for GR data"
   ]
  },
  {
   "cell_type": "code",
   "execution_count": 10,
   "metadata": {},
   "outputs": [
    {
     "name": "stdout",
     "output_type": "stream",
     "text": [
      "1CSC 0001  SElogical_file_logical_file_0_frame_frame_0.csv.csv\n",
      "1CSC 0001  SElogical_file_logical_file_10_frame_frame_0.csv.csv\n",
      "1CSC 0001  SElogical_file_logical_file_11_frame_frame_0.csv.csv\n",
      "1CSC 0001  SElogical_file_logical_file_12_frame_frame_0.csv.csv\n",
      "1IDA 0001  SElogical_file_logical_file_5_frame_frame_0.csv.csv\n",
      "1IV  0002  SElogical_file_logical_file_0_frame_frame_0.csv.csv\n",
      "1IV  0002  SElogical_file_logical_file_4_frame_frame_0.csv.csv\n",
      "1IV  0002  SElogical_file_logical_file_7_frame_frame_0.csv.csv\n",
      "1IV  0002  SElogical_file_logical_file_8_frame_frame_0.csv.csv\n",
      "1MO  0001  SElogical_file_logical_file_7_frame_frame_0.csv.csv\n"
     ]
    }
   ],
   "source": [
    "gr_data = {}\n",
    "\n",
    "for well, dict in csv_data.items():\n",
    "    gr_data[well] = {}\n",
    "\n",
    "    for key, df in dict.items():\n",
    "        try:\n",
    "            gr_df = df[['GR', 'TDEP']]\n",
    "\n",
    "            gr_data[well][key] = gr_df\n",
    "\n",
    "            print(well + key)\n",
    "        except:\n",
    "            pass"
   ]
  },
  {
   "cell_type": "code",
   "execution_count": null,
   "metadata": {},
   "outputs": [],
   "source": [
    "gr_dir = 'gr_logs'\n",
    "\n",
    "for well, dict in gr_data.items():\n",
    "    well_dir = well\n",
    "\n",
    "    for key, df in dict.items():\n",
    "        plot_gr_logs(df, well + \" \" + key)\n",
    "\n",
    "        file_path = f\"{gr_dir}/{well_dir}/{key}.pdf\"\n",
    "\n",
    "        os.makedirs(os.path.dirname(file_path), exist_ok=True)\n",
    "\n",
    "        plt.savefig(file_path, format='pdf')\n",
    "        plt.close"
   ]
  }
 ],
 "metadata": {
  "kernelspec": {
   "display_name": "venv",
   "language": "python",
   "name": "python3"
  },
  "language_info": {
   "codemirror_mode": {
    "name": "ipython",
    "version": 3
   },
   "file_extension": ".py",
   "mimetype": "text/x-python",
   "name": "python",
   "nbconvert_exporter": "python",
   "pygments_lexer": "ipython3",
   "version": "3.12.7"
  }
 },
 "nbformat": 4,
 "nbformat_minor": 2
}
