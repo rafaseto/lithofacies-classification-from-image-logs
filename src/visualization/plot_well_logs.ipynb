{
 "cells": [
  {
   "cell_type": "code",
   "execution_count": 1,
   "metadata": {},
   "outputs": [],
   "source": [
    "import sys\n",
    "import pandas as pd\n",
    "import matplotlib.pyplot as plt\n",
    "import numpy as np\n",
    "import matplotlib.ticker as ticker\n",
    "import glob\n",
    "import os\n",
    "from dlisio import dlis\n",
    "\n",
    "sys.path.append(os.path.abspath(os.path.join('..')))\n",
    "from utils.data_plotting import *"
   ]
  },
  {
   "cell_type": "markdown",
   "metadata": {},
   "source": [
    "### Load the CSV data into pandas dataframes"
   ]
  },
  {
   "cell_type": "code",
   "execution_count": 2,
   "metadata": {},
   "outputs": [],
   "source": [
    "csv_data = {}\n",
    "\n",
    "data_path = os.path.join('..', '..', 'data', 'csv_from_dlis', '**', '*.csv')\n",
    "\n",
    "for file in glob.glob(data_path, recursive=True):\n",
    "    relative_path = os.path.relpath(file, os.path.join('..', '..', 'data', 'csv_from_dlis'))\n",
    "    \n",
    "    # Divide the relative path in parts\n",
    "    parts = relative_path.split(os.sep)\n",
    "\n",
    "    # Name of the well\n",
    "    folder_name = parts[0]\n",
    "        \n",
    "    file_name = parts[1] + \"_\" + parts[2]\n",
    "        \n",
    "    # Create a new dict if it's the first file of the well\n",
    "    if folder_name not in csv_data:\n",
    "        csv_data[folder_name] = {}\n",
    "        \n",
    "    csv_data[folder_name][file_name] = pd.read_csv(file)"
   ]
  },
  {
   "cell_type": "markdown",
   "metadata": {},
   "source": [
    "### Rename the INDEX columns to TDEP"
   ]
  },
  {
   "cell_type": "code",
   "execution_count": 3,
   "metadata": {},
   "outputs": [],
   "source": [
    "for well, dict in csv_data.items():\n",
    "    for key, df in dict.items():\n",
    "        csv_data[well][key] = df.rename(columns=lambda col: 'TDEP' if col.startswith('INDEX') else col)"
   ]
  },
  {
   "cell_type": "markdown",
   "metadata": {},
   "source": [
    "### Create dataframes for GR data"
   ]
  },
  {
   "cell_type": "code",
   "execution_count": 4,
   "metadata": {},
   "outputs": [
    {
     "name": "stdout",
     "output_type": "stream",
     "text": [
      "1CSC 0001  SElogical_file_0_frame_0.csv\n",
      "1CSC 0001  SElogical_file_10_frame_0.csv\n",
      "1CSC 0001  SElogical_file_11_frame_0.csv\n",
      "1CSC 0001  SElogical_file_12_frame_0.csv\n",
      "1IDA 0001  SElogical_file_5_frame_0.csv\n",
      "1IV  0002  SElogical_file_0_frame_0.csv\n",
      "1IV  0002  SElogical_file_4_frame_0.csv\n",
      "1IV  0002  SElogical_file_7_frame_0.csv\n",
      "1IV  0002  SElogical_file_8_frame_0.csv\n",
      "1MO  0001  SElogical_file_7_frame_0.csv\n"
     ]
    }
   ],
   "source": [
    "gr_data = {}\n",
    "\n",
    "for well, dict in csv_data.items():\n",
    "    gr_data[well] = {}\n",
    "\n",
    "    for key, df in dict.items():\n",
    "        try:\n",
    "            gr_df = df[['GR', 'TDEP']]\n",
    "\n",
    "            gr_data[well][key] = gr_df\n",
    "\n",
    "            print(well + key)\n",
    "        except:\n",
    "            pass"
   ]
  },
  {
   "cell_type": "code",
   "execution_count": null,
   "metadata": {},
   "outputs": [],
   "source": [
    "plot_gr_logs(gr_data['1IDA 0001  SE']['logical_file_5_frame_0.csv'], 'GR - IDA')"
   ]
  },
  {
   "cell_type": "code",
   "execution_count": null,
   "metadata": {},
   "outputs": [],
   "source": [
    "plot_gr_logs(gr_data['1CSC 0001  SE']['logical_file_0_frame_0.csv'], '')"
   ]
  },
  {
   "cell_type": "code",
   "execution_count": null,
   "metadata": {},
   "outputs": [],
   "source": [
    "for well, dict in gr_data.items():\n",
    "    num_wells = len(dict)\n",
    "    x = num_wells * 4\n",
    "\n",
    "    fig, axs = plt.subplots(1, num_wells, figsize=(x, 90))\n",
    "\n",
    "    for key, df in dict.items():\n",
    "        if (num_wells > 1):\n",
    "            i = 0\n",
    "            for key, df in dict.items():\n",
    "                plot_gr_logs(axs[i], df, key)\n",
    "                i = i + 1\n",
    "        else:\n",
    "            plot_gr_logs(axs, df, well + key)"
   ]
  }
 ],
 "metadata": {
  "kernelspec": {
   "display_name": "Python 3",
   "language": "python",
   "name": "python3"
  },
  "language_info": {
   "codemirror_mode": {
    "name": "ipython",
    "version": 3
   },
   "file_extension": ".py",
   "mimetype": "text/x-python",
   "name": "python",
   "nbconvert_exporter": "python",
   "pygments_lexer": "ipython3",
   "version": "3.10.2"
  }
 },
 "nbformat": 4,
 "nbformat_minor": 2
}
