{
 "cells": [
  {
   "cell_type": "code",
   "execution_count": 1,
   "metadata": {},
   "outputs": [],
   "source": [
    "import sys\n",
    "import pandas as pd\n",
    "import matplotlib.pyplot as plt\n",
    "import numpy as np\n",
    "import matplotlib.ticker as ticker\n",
    "import glob\n",
    "import os\n",
    "from dlisio import dlis\n",
    "\n",
    "sys.path.append(os.path.abspath(os.path.join('..')))\n",
    "from utils.data_preprocessing import *"
   ]
  },
  {
   "cell_type": "markdown",
   "metadata": {},
   "source": [
    "### Load the CSV data into pandas dataframes"
   ]
  },
  {
   "cell_type": "code",
   "execution_count": 2,
   "metadata": {},
   "outputs": [],
   "source": [
    "csv_data = {}\n",
    "\n",
    "data_path = os.path.join('..', '..', 'data', 'csv_from_dlis', '1CSC 0001  SE', '**','*.csv')\n",
    "\n",
    "for file in glob.glob(data_path, recursive=True):\n",
    "    csv_data[file] = pd.read_csv(file)"
   ]
  },
  {
   "cell_type": "markdown",
   "metadata": {},
   "source": [
    "### Rename the INDEX columns to TDEP"
   ]
  },
  {
   "cell_type": "code",
   "execution_count": 3,
   "metadata": {},
   "outputs": [],
   "source": [
    "for key, df in csv_data.items():\n",
    "    csv_data[key] = df.rename(columns=lambda col: 'TDEP' if col.startswith('INDEX') else col)"
   ]
  },
  {
   "cell_type": "markdown",
   "metadata": {},
   "source": [
    "### Create dataframes for GR data"
   ]
  },
  {
   "cell_type": "code",
   "execution_count": 4,
   "metadata": {},
   "outputs": [
    {
     "name": "stdout",
     "output_type": "stream",
     "text": [
      "The frame ..\\..\\data\\csv_from_dlis\\1CSC 0001  SE\\logical_file_1\\frame_0.csv doesn't have GR\n",
      "The frame ..\\..\\data\\csv_from_dlis\\1CSC 0001  SE\\logical_file_13\\frame_0.csv doesn't have GR\n",
      "The frame ..\\..\\data\\csv_from_dlis\\1CSC 0001  SE\\logical_file_2\\frame_0.csv doesn't have GR\n",
      "The frame ..\\..\\data\\csv_from_dlis\\1CSC 0001  SE\\logical_file_3\\frame_0.csv doesn't have GR\n",
      "The frame ..\\..\\data\\csv_from_dlis\\1CSC 0001  SE\\logical_file_4\\frame_0.csv doesn't have GR\n",
      "The frame ..\\..\\data\\csv_from_dlis\\1CSC 0001  SE\\logical_file_5\\frame_0.csv doesn't have GR\n",
      "The frame ..\\..\\data\\csv_from_dlis\\1CSC 0001  SE\\logical_file_6\\frame_0.csv doesn't have GR\n",
      "The frame ..\\..\\data\\csv_from_dlis\\1CSC 0001  SE\\logical_file_7\\frame_0.csv doesn't have GR\n",
      "The frame ..\\..\\data\\csv_from_dlis\\1CSC 0001  SE\\logical_file_8\\frame_0.csv doesn't have GR\n",
      "The frame ..\\..\\data\\csv_from_dlis\\1CSC 0001  SE\\logical_file_9\\frame_0.csv doesn't have GR\n"
     ]
    }
   ],
   "source": [
    "gr_data = {}\n",
    "\n",
    "for key, df in csv_data.items():\n",
    "    try:\n",
    "        gr_df = df[['GR', 'TDEP']]\n",
    "\n",
    "        gr_data[key] = gr_df\n",
    "    except:\n",
    "        print(f\"The frame {key} doesn't have GR\")"
   ]
  },
  {
   "cell_type": "code",
   "execution_count": null,
   "metadata": {},
   "outputs": [],
   "source": [
    "fig, axs = plt.subplots(1, 1, figsize=(4, 90))\n",
    "\n",
    "plot_gr_logs(axs, gr_data['..\\\\..\\\\data\\\\csv_from_dlis\\\\1CSC 0001  SE\\\\logical_file_0\\\\frame_0.csv'], 'X')"
   ]
  }
 ],
 "metadata": {
  "kernelspec": {
   "display_name": "Python 3",
   "language": "python",
   "name": "python3"
  },
  "language_info": {
   "codemirror_mode": {
    "name": "ipython",
    "version": 3
   },
   "file_extension": ".py",
   "mimetype": "text/x-python",
   "name": "python",
   "nbconvert_exporter": "python",
   "pygments_lexer": "ipython3",
   "version": "3.10.2"
  }
 },
 "nbformat": 4,
 "nbformat_minor": 2
}
