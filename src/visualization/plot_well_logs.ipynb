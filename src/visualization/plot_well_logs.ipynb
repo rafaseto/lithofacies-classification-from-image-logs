{
 "cells": [
  {
   "cell_type": "code",
   "execution_count": 1,
   "metadata": {},
   "outputs": [],
   "source": [
    "import sys\n",
    "import pandas as pd\n",
    "import matplotlib.pyplot as plt\n",
    "import glob\n",
    "import os\n",
    "import numpy as np\n",
    "\n",
    "sys.path.append(os.path.abspath(os.path.join('..')))\n",
    "from utils.data_plotting import *\n",
    "from utils.data_preprocessing import *"
   ]
  },
  {
   "cell_type": "markdown",
   "metadata": {},
   "source": [
    "### Load the CSV data into pandas dataframes"
   ]
  },
  {
   "cell_type": "code",
   "execution_count": 2,
   "metadata": {},
   "outputs": [],
   "source": [
    "base_path = os.path.join('..', '..', 'data', 'dlis_preprocessed')\n",
    "csv_data = load_csv_files(base_path)"
   ]
  },
  {
   "cell_type": "code",
   "execution_count": 3,
   "metadata": {},
   "outputs": [],
   "source": [
    "gr_data = create_df_subset(csv_data, ['GR'])\n",
    "ild_data = create_df_subset(csv_data, ['ILD'])\n",
    "spliced_gr = load_spliced_csv_files('../../data/dlis_spliced/GR_ILD/')"
   ]
  },
  {
   "cell_type": "code",
   "execution_count": 4,
   "metadata": {},
   "outputs": [],
   "source": [
    "ild_run_1 = ild_data['1CSC 0001  SE']['logical_file_0']['frame_0.csv']\n",
    "ild_run_2 = ild_data['1CSC 0001  SE']['logical_file_10']['frame_0.csv']\n",
    "gr_spliced = spliced_gr['1CSC 0001  SE.csv']\n",
    "gr_run_1 = gr_data['1CSC 0001  SE']['logical_file_0']['frame_0.csv']\n",
    "gr_run_2 = gr_data['1CSC 0001  SE']['logical_file_11']['frame_0.csv']\n",
    "gr_run_3 = gr_data['1CSC 0001  SE']['logical_file_10']['frame_0.csv']\n",
    "gr_run_4 = gr_data['1CSC 0001  SE']['logical_file_12']['frame_0.csv']"
   ]
  },
  {
   "cell_type": "code",
   "execution_count": 5,
   "metadata": {},
   "outputs": [
    {
     "name": "stderr",
     "output_type": "stream",
     "text": [
      "C:\\Users\\rafae\\AppData\\Local\\Temp\\ipykernel_31488\\3808889677.py:1: SettingWithCopyWarning: \n",
      "A value is trying to be set on a copy of a slice from a DataFrame.\n",
      "Try using .loc[row_indexer,col_indexer] = value instead\n",
      "\n",
      "See the caveats in the documentation: https://pandas.pydata.org/pandas-docs/stable/user_guide/indexing.html#returning-a-view-versus-a-copy\n",
      "  ild_run_1['ILD'] = np.log10(ild_run_1['ILD'])\n",
      "C:\\Users\\rafae\\AppData\\Local\\Temp\\ipykernel_31488\\3808889677.py:2: SettingWithCopyWarning: \n",
      "A value is trying to be set on a copy of a slice from a DataFrame.\n",
      "Try using .loc[row_indexer,col_indexer] = value instead\n",
      "\n",
      "See the caveats in the documentation: https://pandas.pydata.org/pandas-docs/stable/user_guide/indexing.html#returning-a-view-versus-a-copy\n",
      "  ild_run_2['ILD'] = np.log10(ild_run_2['ILD'])\n"
     ]
    }
   ],
   "source": [
    "ild_run_1['ILD'] = np.log10(ild_run_1['ILD'])\n",
    "ild_run_2['ILD'] = np.log10(ild_run_2['ILD'])\n",
    "gr_spliced['ILD'] = np.log10(gr_spliced['ILD'])"
   ]
  },
  {
   "cell_type": "code",
   "execution_count": 6,
   "metadata": {},
   "outputs": [
    {
     "name": "stdout",
     "output_type": "stream",
     "text": [
      "Gráfico salvo em gr_and_res_logs/1CSC 0001  SE.pdf\n"
     ]
    }
   ],
   "source": [
    "from matplotlib.backends.backend_pdf import PdfPages\n",
    "plot_combined(ild_run_1, ild_run_2, gr_spliced, gr_run_1, gr_run_2, gr_run_3, gr_run_4, 'Emenda RES - Cid S-Cristovao.1', 'Emenda GR - Cid S-Cristovao.1', 2900)\n",
    "\n",
    "# Nome do arquivo PDF onde o gráfico será salvo\n",
    "pdf_filename = \"gr_and_res_logs/1CSC 0001  SE.pdf\"\n",
    "\n",
    "# Criar o PDF e salvar o gráfico atual\n",
    "with PdfPages(pdf_filename) as pdf:\n",
    "    pdf.savefig()  # Salva o gráfico atual\n",
    "    plt.close()    # Fecha o gráfico para evitar sobreposição\n",
    "\n",
    "print(f\"Gráfico salvo em {pdf_filename}\")"
   ]
  }
 ],
 "metadata": {
  "kernelspec": {
   "display_name": "venv",
   "language": "python",
   "name": "python3"
  },
  "language_info": {
   "codemirror_mode": {
    "name": "ipython",
    "version": 3
   },
   "file_extension": ".py",
   "mimetype": "text/x-python",
   "name": "python",
   "nbconvert_exporter": "python",
   "pygments_lexer": "ipython3",
   "version": "3.12.7"
  }
 },
 "nbformat": 4,
 "nbformat_minor": 2
}
