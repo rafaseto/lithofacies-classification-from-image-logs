{
 "cells": [
  {
   "cell_type": "code",
   "execution_count": 1,
   "metadata": {},
   "outputs": [],
   "source": [
    "import sys\n",
    "import pandas as pd\n",
    "import matplotlib.pyplot as plt\n",
    "import glob\n",
    "import os\n",
    "import numpy as np\n",
    "\n",
    "sys.path.append(os.path.abspath(os.path.join('..')))\n",
    "from utils.data_plotting import *\n",
    "from utils.data_preprocessing import *"
   ]
  },
  {
   "cell_type": "markdown",
   "metadata": {},
   "source": [
    "### Load the CSV data into pandas dataframes"
   ]
  },
  {
   "cell_type": "code",
   "execution_count": 2,
   "metadata": {},
   "outputs": [],
   "source": [
    "base_path = os.path.join('..', '..', 'data', 'dlis_preprocessed')\n",
    "csv_data = load_csv_files(base_path)"
   ]
  },
  {
   "cell_type": "code",
   "execution_count": 3,
   "metadata": {},
   "outputs": [],
   "source": [
    "gr_data = create_df_subset(csv_data, 'GR')\n",
    "ild_data = create_df_subset(csv_data, 'ILD')\n",
    "spliced_data = load_spliced_csv_files('../../data/dlis_spliced/GR')"
   ]
  },
  {
   "cell_type": "code",
   "execution_count": 5,
   "metadata": {},
   "outputs": [
    {
     "data": {
      "text/plain": [
       "{'logical_file_0': {'frame_0.csv':         TDEP         GR\n",
       "  0       19.6  21.921783\n",
       "  1       19.8  23.750275\n",
       "  2       20.0  25.770065\n",
       "  3       20.2  25.727081\n",
       "  4       20.4  25.070892\n",
       "  ...      ...        ...\n",
       "  9196  1858.8        NaN\n",
       "  9197  1859.0        NaN\n",
       "  9198  1859.2        NaN\n",
       "  9199  1859.4        NaN\n",
       "  9200  1859.6        NaN\n",
       "  \n",
       "  [9201 rows x 2 columns]},\n",
       " 'logical_file_1': {},\n",
       " 'logical_file_10': {},\n",
       " 'logical_file_11': {},\n",
       " 'logical_file_2': {},\n",
       " 'logical_file_3': {},\n",
       " 'logical_file_4': {'frame_0.csv':         TDEP        GR\n",
       "  0     1863.0  71.20000\n",
       "  1     1863.2  72.28906\n",
       "  2     1863.4  75.05859\n",
       "  3     1863.6  76.94922\n",
       "  4     1863.8  78.78906\n",
       "  ...      ...       ...\n",
       "  6003  3063.6       NaN\n",
       "  6004  3063.8       NaN\n",
       "  6005  3064.0       NaN\n",
       "  6006  3064.2       NaN\n",
       "  6007  3064.4       NaN\n",
       "  \n",
       "  [6008 rows x 2 columns]},\n",
       " 'logical_file_5': {},\n",
       " 'logical_file_6': {},\n",
       " 'logical_file_7': {'frame_0.csv':         TDEP         GR\n",
       "  0      330.0  54.795000\n",
       "  1      330.2  55.609985\n",
       "  2      330.4  54.699997\n",
       "  3      330.6  52.882996\n",
       "  4      330.8  50.242996\n",
       "  ...      ...        ...\n",
       "  7631  1856.2        NaN\n",
       "  7632  1856.4        NaN\n",
       "  7633  1856.6        NaN\n",
       "  7634  1856.8        NaN\n",
       "  7635  1857.0        NaN\n",
       "  \n",
       "  [7636 rows x 2 columns]},\n",
       " 'logical_file_8': {'frame_0.csv':         TDEP         GR\n",
       "  0     2500.0  68.965990\n",
       "  1     2500.2  69.244995\n",
       "  2     2500.4  68.185000\n",
       "  3     2500.6  65.198000\n",
       "  4     2500.8  58.403990\n",
       "  ...      ...        ...\n",
       "  2816  3063.2        NaN\n",
       "  2817  3063.4        NaN\n",
       "  2818  3063.6        NaN\n",
       "  2819  3063.8        NaN\n",
       "  2820  3064.0        NaN\n",
       "  \n",
       "  [2821 rows x 2 columns]},\n",
       " 'logical_file_9': {}}"
      ]
     },
     "execution_count": 5,
     "metadata": {},
     "output_type": "execute_result"
    }
   ],
   "source": [
    "gr_data['1IV  0002  SE']"
   ]
  },
  {
   "cell_type": "code",
   "execution_count": 6,
   "metadata": {},
   "outputs": [],
   "source": [
    "ild_run_1 = ild_data['1IV  0002  SE']['logical_file_0']['frame_0.csv']\n",
    "ild_run_2 = ild_data['1IV  0002  SE']['logical_file_4']['frame_0.csv']\n",
    "gr_spliced = spliced_data['1IV  0002  SE.csv']\n",
    "gr_run_1 = gr_data['1IV  0002  SE']['logical_file_0']['frame_0.csv']\n",
    "gr_run_2 = gr_data['1IV  0002  SE']['logical_file_7']['frame_0.csv']\n",
    "gr_run_3 = gr_data['1IV  0002  SE']['logical_file_4']['frame_0.csv']\n",
    "gr_run_4 = gr_data['1IV  0002  SE']['logical_file_8']['frame_0.csv']\n"
   ]
  },
  {
   "cell_type": "code",
   "execution_count": 7,
   "metadata": {},
   "outputs": [
    {
     "name": "stderr",
     "output_type": "stream",
     "text": [
      "C:\\Users\\rafae\\AppData\\Local\\Temp\\ipykernel_25388\\3592767336.py:1: SettingWithCopyWarning: \n",
      "A value is trying to be set on a copy of a slice from a DataFrame.\n",
      "Try using .loc[row_indexer,col_indexer] = value instead\n",
      "\n",
      "See the caveats in the documentation: https://pandas.pydata.org/pandas-docs/stable/user_guide/indexing.html#returning-a-view-versus-a-copy\n",
      "  ild_run_1['ILD'] = np.log10(ild_run_1['ILD'])\n",
      "C:\\Users\\rafae\\AppData\\Local\\Temp\\ipykernel_25388\\3592767336.py:2: SettingWithCopyWarning: \n",
      "A value is trying to be set on a copy of a slice from a DataFrame.\n",
      "Try using .loc[row_indexer,col_indexer] = value instead\n",
      "\n",
      "See the caveats in the documentation: https://pandas.pydata.org/pandas-docs/stable/user_guide/indexing.html#returning-a-view-versus-a-copy\n",
      "  ild_run_2['ILD'] = np.log10(ild_run_2['ILD'])\n"
     ]
    }
   ],
   "source": [
    "ild_run_1['ILD'] = np.log10(ild_run_1['ILD'])\n",
    "ild_run_2['ILD'] = np.log10(ild_run_2['ILD'])"
   ]
  },
  {
   "cell_type": "code",
   "execution_count": 8,
   "metadata": {},
   "outputs": [
    {
     "name": "stdout",
     "output_type": "stream",
     "text": [
      "Gráfico salvo em gr_and_res_logs/1IV  0002  SE.pdf\n"
     ]
    }
   ],
   "source": [
    "from matplotlib.backends.backend_pdf import PdfPages\n",
    "plot_combined(ild_run_1, ild_run_2, gr_spliced, gr_run_1, gr_run_2, gr_run_3, gr_run_4, 'ILD CSC', 'GR CSC', 2900)\n",
    "\n",
    "# Nome do arquivo PDF onde o gráfico será salvo\n",
    "pdf_filename = \"gr_and_res_logs/1IV  0002  SE.pdf\"\n",
    "\n",
    "# Criar o PDF e salvar o gráfico atual\n",
    "with PdfPages(pdf_filename) as pdf:\n",
    "    pdf.savefig()  # Salva o gráfico atual\n",
    "    plt.close()    # Fecha o gráfico para evitar sobreposição\n",
    "\n",
    "print(f\"Gráfico salvo em {pdf_filename}\")"
   ]
  }
 ],
 "metadata": {
  "kernelspec": {
   "display_name": "venv",
   "language": "python",
   "name": "python3"
  },
  "language_info": {
   "codemirror_mode": {
    "name": "ipython",
    "version": 3
   },
   "file_extension": ".py",
   "mimetype": "text/x-python",
   "name": "python",
   "nbconvert_exporter": "python",
   "pygments_lexer": "ipython3",
   "version": "3.12.7"
  }
 },
 "nbformat": 4,
 "nbformat_minor": 2
}
