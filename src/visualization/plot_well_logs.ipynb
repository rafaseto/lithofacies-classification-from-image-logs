{
 "cells": [
  {
   "cell_type": "code",
   "execution_count": 8,
   "metadata": {},
   "outputs": [],
   "source": [
    "import sys\n",
    "import pandas as pd\n",
    "import matplotlib.pyplot as plt\n",
    "import glob\n",
    "import os\n",
    "import numpy as np\n",
    "\n",
    "sys.path.append(os.path.abspath(os.path.join('..')))\n",
    "from utils.data_plotting import *\n",
    "from utils.data_preprocessing import *"
   ]
  },
  {
   "cell_type": "markdown",
   "metadata": {},
   "source": [
    "### Load the CSV data into pandas dataframes"
   ]
  },
  {
   "cell_type": "code",
   "execution_count": 9,
   "metadata": {},
   "outputs": [],
   "source": [
    "base_path = os.path.join('..', '..', 'data', 'dlis_preprocessed')\n",
    "csv_data = load_csv_files(base_path)"
   ]
  },
  {
   "cell_type": "code",
   "execution_count": 10,
   "metadata": {},
   "outputs": [],
   "source": [
    "spliced_gr_ild = load_spliced_csv_files('../../data/dlis_spliced/GR_ILD')\n",
    "spliced_cali = load_spliced_csv_files('../../data/dlis_spliced/CALI')\n",
    "spliced_rhob = load_spliced_csv_files('../../data/dlis_spliced/RHOB')\n",
    "spliced_drho = load_spliced_csv_files('../../data/dlis_spliced/DRHO')\n",
    "\n",
    "non_spliced_gr = create_df_subset(csv_data, ['GR'])\n",
    "non_spliced_cali = create_df_subset(csv_data, ['CALI'])\n",
    "non_spliced_rhob = create_df_subset(csv_data, ['RHOB'])\n",
    "non_spliced_drho = create_df_subset(csv_data, ['DRHO'])"
   ]
  },
  {
   "cell_type": "code",
   "execution_count": 11,
   "metadata": {},
   "outputs": [],
   "source": [
    "gr_spliced = spliced_gr_ild['1IV  0002  SE.csv']\n",
    "gr_01 = non_spliced_gr['1IV  0002  SE']['logical_file_0']['frame_0.csv']\n",
    "gr_02 = non_spliced_gr['1IV  0002  SE']['logical_file_4']['frame_0.csv']\n",
    "gr_03 = non_spliced_gr['1IV  0002  SE']['logical_file_7']['frame_0.csv']\n",
    "gr_04 = non_spliced_gr['1IV  0002  SE']['logical_file_8']['frame_0.csv']"
   ]
  },
  {
   "cell_type": "code",
   "execution_count": 4,
   "metadata": {},
   "outputs": [],
   "source": [
    "cali_spliced = spliced_cali['1IV  0002  SE.csv']\n",
    "cali_01 = non_spliced_cali['1IV  0002  SE']['logical_file_0']['frame_0.csv']\n",
    "cali_02 = non_spliced_cali['1IV  0002  SE']['logical_file_4']['frame_0.csv']\n",
    "cali_03 = non_spliced_cali['1IV  0002  SE']['logical_file_7']['frame_0.csv']\n",
    "cali_04 = non_spliced_cali['1IV  0002  SE']['logical_file_8']['frame_0.csv']"
   ]
  },
  {
   "cell_type": "code",
   "execution_count": 5,
   "metadata": {},
   "outputs": [],
   "source": [
    "rhob_spliced = spliced_rhob['1IV  0002  SE.csv']\n",
    "rhob_01 = non_spliced_rhob['1IV  0002  SE']['logical_file_8']['frame_0.csv']\n",
    "rhob_02 = non_spliced_rhob['1IV  0002  SE']['logical_file_9']['frame_0.csv']\n",
    "\n",
    "drho_spliced = spliced_drho['1IV  0002  SE.csv']\n",
    "drho_01 = non_spliced_drho['1IV  0002  SE']['logical_file_8']['frame_0.csv']\n",
    "drho_02 = non_spliced_drho['1IV  0002  SE']['logical_file_9']['frame_0.csv']"
   ]
  },
  {
   "cell_type": "code",
   "execution_count": 6,
   "metadata": {},
   "outputs": [
    {
     "name": "stdout",
     "output_type": "stream",
     "text": [
      "Gráfico salvo em cali_rhob_drho/1IV  0002  SE.pdf\n"
     ]
    }
   ],
   "source": [
    "from matplotlib.backends.backend_pdf import PdfPages\n",
    "plot_gr_logs_5_runs(gr_spliced, gr_01, gr_02, gr_03, gr_04, \"Emenda GR - Ilha do Veiga-2\")\n",
    "\n",
    "# Nome do arquivo PDF onde o gráfico será salvo\n",
    "pdf_filename = \"gr_logs/1IV  0002  SE.pdf\"\n",
    "\n",
    "# Criar o PDF e salvar o gráfico atual\n",
    "with PdfPages(pdf_filename) as pdf:\n",
    "    pdf.savefig()  # Salva o gráfico atual\n",
    "    plt.close()    # Fecha o gráfico para evitar sobreposição\n",
    "\n",
    "print(f\"Gráfico salvo em {pdf_filename}\")"
   ]
  }
 ],
 "metadata": {
  "kernelspec": {
   "display_name": "venv",
   "language": "python",
   "name": "python3"
  },
  "language_info": {
   "codemirror_mode": {
    "name": "ipython",
    "version": 3
   },
   "file_extension": ".py",
   "mimetype": "text/x-python",
   "name": "python",
   "nbconvert_exporter": "python",
   "pygments_lexer": "ipython3",
   "version": "3.12.7"
  }
 },
 "nbformat": 4,
 "nbformat_minor": 2
}
