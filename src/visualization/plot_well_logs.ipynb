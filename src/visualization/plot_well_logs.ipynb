{
 "cells": [
  {
   "cell_type": "code",
   "execution_count": 1,
   "metadata": {},
   "outputs": [],
   "source": [
    "import sys\n",
    "import pandas as pd\n",
    "import matplotlib.pyplot as plt\n",
    "import glob\n",
    "import os\n",
    "import numpy as np\n",
    "\n",
    "sys.path.append(os.path.abspath(os.path.join('..')))\n",
    "from utils.data_plotting import *\n",
    "from utils.data_preprocessing import *"
   ]
  },
  {
   "cell_type": "markdown",
   "metadata": {},
   "source": [
    "### Load the CSV data into pandas dataframes"
   ]
  },
  {
   "cell_type": "code",
   "execution_count": 2,
   "metadata": {},
   "outputs": [],
   "source": [
    "base_path = os.path.join('..', '..', 'data', 'dlis_preprocessed')\n",
    "csv_data = load_csv_files(base_path)\n",
    "\n",
    "non_spliced_nphi = create_df_subset(csv_data, ['CALI'])"
   ]
  },
  {
   "cell_type": "code",
   "execution_count": 3,
   "metadata": {},
   "outputs": [],
   "source": [
    "spliced_nphi = load_spliced_csv_files('../../data/dlis_spliced/CALI')\n",
    "spliced_drho = load_spliced_csv_files('../../data/dlis_spliced/DRHO')\n",
    "\n",
    "non_spliced_nphi = create_df_subset(csv_data, ['CALI'])"
   ]
  },
  {
   "cell_type": "code",
   "execution_count": 4,
   "metadata": {},
   "outputs": [],
   "source": [
    "line_1 = spliced_nphi['1IV  0002  SE.csv']\n",
    "line_2 = non_spliced_nphi['1IV  0002  SE']['logical_file_0']['frame_0.csv']\n",
    "line_3 = non_spliced_nphi['1IV  0002  SE']['logical_file_4']['frame_0.csv']\n",
    "line_4 = non_spliced_nphi['1IV  0002  SE']['logical_file_7']['frame_0.csv']\n",
    "line_5 = non_spliced_nphi['1IV  0002  SE']['logical_file_8']['frame_0.csv']"
   ]
  },
  {
   "cell_type": "code",
   "execution_count": null,
   "metadata": {},
   "outputs": [
    {
     "ename": "TypeError",
     "evalue": "plot_cali_logs_4_runs() missing 1 required positional argument: 'title'",
     "output_type": "error",
     "traceback": [
      "\u001b[1;31m---------------------------------------------------------------------------\u001b[0m",
      "\u001b[1;31mTypeError\u001b[0m                                 Traceback (most recent call last)",
      "Cell \u001b[1;32mIn[5], line 2\u001b[0m\n\u001b[0;32m      1\u001b[0m \u001b[38;5;28;01mfrom\u001b[39;00m \u001b[38;5;21;01mmatplotlib\u001b[39;00m\u001b[38;5;21;01m.\u001b[39;00m\u001b[38;5;21;01mbackends\u001b[39;00m\u001b[38;5;21;01m.\u001b[39;00m\u001b[38;5;21;01mbackend_pdf\u001b[39;00m \u001b[38;5;28;01mimport\u001b[39;00m PdfPages\n\u001b[1;32m----> 2\u001b[0m \u001b[43mplot_cali_logs_4_runs\u001b[49m\u001b[43m(\u001b[49m\u001b[43mline_2\u001b[49m\u001b[43m,\u001b[49m\u001b[43m \u001b[49m\u001b[43mline_3\u001b[49m\u001b[43m,\u001b[49m\u001b[43m \u001b[49m\u001b[43mline_4\u001b[49m\u001b[43m,\u001b[49m\u001b[43m \u001b[49m\u001b[43mline_5\u001b[49m\u001b[43m,\u001b[49m\u001b[43m \u001b[49m\u001b[38;5;124;43m\"\u001b[39;49m\u001b[38;5;124;43mEmenda CALI - IV\u001b[39;49m\u001b[38;5;124;43m\"\u001b[39;49m\u001b[43m)\u001b[49m\n\u001b[0;32m      4\u001b[0m \u001b[38;5;66;03m# Nome do arquivo PDF onde o gráfico será salvo\u001b[39;00m\n\u001b[0;32m      5\u001b[0m pdf_filename \u001b[38;5;241m=\u001b[39m \u001b[38;5;124m\"\u001b[39m\u001b[38;5;124mcali_logs/1IV  0002  SE.pdf\u001b[39m\u001b[38;5;124m\"\u001b[39m\n",
      "\u001b[1;31mTypeError\u001b[0m: plot_cali_logs_4_runs() missing 1 required positional argument: 'title'"
     ]
    }
   ],
   "source": [
    "from matplotlib.backends.backend_pdf import PdfPages\n",
    "plot_cali_logs_4_runs(line_1, line_2, line_3, line_4, line_5, \"Emenda CALI - IV\")\n",
    "\n",
    "# Nome do arquivo PDF onde o gráfico será salvo\n",
    "pdf_filename = \"cali_logs/1IV  0002  SE.pdf\"\n",
    "\n",
    "# Criar o PDF e salvar o gráfico atual\n",
    "with PdfPages(pdf_filename) as pdf:\n",
    "    pdf.savefig()  # Salva o gráfico atual\n",
    "    plt.close()    # Fecha o gráfico para evitar sobreposição\n",
    "\n",
    "print(f\"Gráfico salvo em {pdf_filename}\")"
   ]
  }
 ],
 "metadata": {
  "kernelspec": {
   "display_name": "venv",
   "language": "python",
   "name": "python3"
  },
  "language_info": {
   "codemirror_mode": {
    "name": "ipython",
    "version": 3
   },
   "file_extension": ".py",
   "mimetype": "text/x-python",
   "name": "python",
   "nbconvert_exporter": "python",
   "pygments_lexer": "ipython3",
   "version": "3.12.7"
  }
 },
 "nbformat": 4,
 "nbformat_minor": 2
}
