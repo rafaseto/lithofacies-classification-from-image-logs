{
 "cells": [
  {
   "cell_type": "code",
   "execution_count": 1,
   "id": "d7e0070d",
   "metadata": {},
   "outputs": [],
   "source": [
    "import pandas as pd\n",
    "import os \n",
    "from scipy.interpolate import interp1d\n",
    "from utils.data_plotting import *"
   ]
  },
  {
   "cell_type": "markdown",
   "id": "afc14f4a",
   "metadata": {},
   "source": [
    "### Load the texture data into a df"
   ]
  },
  {
   "cell_type": "code",
   "execution_count": 2,
   "id": "b0e76000",
   "metadata": {},
   "outputs": [],
   "source": [
    "texture_df = pd.read_csv(\"texturas_extraidas_cast.csv\")"
   ]
  },
  {
   "cell_type": "markdown",
   "id": "053a290a",
   "metadata": {},
   "source": [
    "### Create bins of 1cm (calling it TDEP)"
   ]
  },
  {
   "cell_type": "code",
   "execution_count": 3,
   "id": "2fd1f7a3",
   "metadata": {},
   "outputs": [],
   "source": [
    "# The interval we want\n",
    "step = 0.01\n",
    "\n",
    "# Floor division and round to the nearest below\n",
    "texture_df['TDEP'] = (texture_df['Profundidade'] // step) * step"
   ]
  },
  {
   "cell_type": "markdown",
   "id": "a4505b37",
   "metadata": {},
   "source": [
    "### Round all the texture variables to 4"
   ]
  },
  {
   "cell_type": "code",
   "execution_count": 4,
   "id": "28c5877c",
   "metadata": {},
   "outputs": [],
   "source": [
    "texture_df = texture_df.round(4)"
   ]
  },
  {
   "cell_type": "code",
   "execution_count": 5,
   "id": "e6eb7010",
   "metadata": {},
   "outputs": [],
   "source": [
    "texture_df.to_csv('texturas_bins.csv', index=False)"
   ]
  },
  {
   "cell_type": "markdown",
   "id": "e33219cd",
   "metadata": {},
   "source": [
    "### Use the mean and group by the bins"
   ]
  },
  {
   "cell_type": "code",
   "execution_count": 6,
   "id": "ba6ee4b3",
   "metadata": {},
   "outputs": [],
   "source": [
    "stats = {\n",
    "    'contrast':      'mean',\n",
    "    'dissimilarity': 'mean',\n",
    "    'homogeneity':   'mean',\n",
    "    'energy':        'mean',\n",
    "    'correlation':   'mean',\n",
    "    'entropy':       'mean'\n",
    "}\n",
    "\n",
    "results = texture_df.groupby('TDEP').agg(stats).reset_index()"
   ]
  },
  {
   "cell_type": "markdown",
   "id": "1229a282",
   "metadata": {},
   "source": [
    "### Round TDEP (e.g. 467.84000000000003 to 467.84)"
   ]
  },
  {
   "cell_type": "code",
   "execution_count": 7,
   "id": "dda4b582",
   "metadata": {},
   "outputs": [],
   "source": [
    "results['TDEP'] = results['TDEP'].round(2)\n",
    "results = results.round(4)"
   ]
  },
  {
   "cell_type": "markdown",
   "id": "1f4d5238",
   "metadata": {},
   "source": [
    "### Save the data into a CSV"
   ]
  },
  {
   "cell_type": "code",
   "execution_count": 8,
   "id": "72a8ef42",
   "metadata": {},
   "outputs": [],
   "source": [
    "results.to_csv('texturas_cast_res_preprocessed.csv', index=False)"
   ]
  },
  {
   "cell_type": "markdown",
   "id": "5acc1f41",
   "metadata": {},
   "source": [
    "### Get the convetional well logs from the same well"
   ]
  },
  {
   "cell_type": "code",
   "execution_count": 9,
   "id": "ed92172c",
   "metadata": {},
   "outputs": [],
   "source": [
    "base_path = os.path.join('..', 'data', 'dlis_preprocessed_cast', '3-BRSA-778-SE', 'logical_file_0', 'frame_0.csv')\n",
    "conventional_data = pd.read_csv(base_path)"
   ]
  },
  {
   "cell_type": "markdown",
   "id": "b0b52d37",
   "metadata": {},
   "source": [
    "### Testing with GR, RHOB and DRHO first"
   ]
  },
  {
   "cell_type": "code",
   "execution_count": 10,
   "id": "80b65488",
   "metadata": {},
   "outputs": [],
   "source": [
    "conventional_data = conventional_data.iloc[::-1].reset_index(drop=True)\n",
    "\n",
    "gr_data = conventional_data[['TDEP', 'GR']]\n",
    "gr_data = gr_data.dropna(subset=['GR'])\n",
    "\n",
    "rhob_drho_data = conventional_data[['TDEP', 'RHOB', 'DRHO']]\n",
    "rhob_drho_data = rhob_drho_data.dropna(subset=['RHOB', 'DRHO'])"
   ]
  },
  {
   "cell_type": "markdown",
   "id": "6fa8a32e",
   "metadata": {},
   "source": [
    "### Interpolate conventional well logs to 1cm res (Trying with GR first)"
   ]
  },
  {
   "cell_type": "code",
   "execution_count": 11,
   "id": "28357bc9",
   "metadata": {},
   "outputs": [],
   "source": [
    "def interpolate_conv_logs(df, well_log):\n",
    "    # 1. Crie o interpolador a partir dos seus dados originais de GR\n",
    "    interp_func = interp1d(\n",
    "        df['TDEP'],        # prof. originais do gr\n",
    "        df[well_log],          # valores de GR originais\n",
    "        kind='linear',          # cria uma linha reta entre dois vals de GR.\n",
    "    )\n",
    "\n",
    "    # 2. Usando o intervalo de profundidade da imagem CAST\n",
    "    nova_tdep = results['TDEP'].values\n",
    "\n",
    "    min_gr_tdep = df['TDEP'].min()\n",
    "    max_gr_tdep = df['TDEP'].max()\n",
    "    nova_tdep = nova_tdep[(nova_tdep >= min_gr_tdep) & (nova_tdep <= max_gr_tdep)]\n",
    "\n",
    "    # 3. Gera valores de GR interpolados seguindo a reta entre dois pontos\n",
    "    interp1d_well_log = interp_func(nova_tdep)\n",
    "\n",
    "    # 4. criando o df\n",
    "    df_interp1d = pd.DataFrame({\n",
    "        'TDEP': nova_tdep,\n",
    "        well_log: interp1d_well_log\n",
    "    })\n",
    "\n",
    "    # 5. Arredonda os valores de GR pra 4 casas\n",
    "    df_interp1d[well_log] = df_interp1d[well_log].round(4)\n",
    "\n",
    "    return df_interp1d"
   ]
  },
  {
   "cell_type": "code",
   "execution_count": 12,
   "id": "1390ea4c",
   "metadata": {},
   "outputs": [],
   "source": [
    "gr_alinhado = interpolate_conv_logs(gr_data, 'GR')\n",
    "rhob_alinhado = interpolate_conv_logs(rhob_drho_data, 'RHOB')\n",
    "drho_alinhado = interpolate_conv_logs(rhob_drho_data, 'DRHO')"
   ]
  },
  {
   "cell_type": "markdown",
   "id": "79e8e7df",
   "metadata": {},
   "source": [
    "### Remove data where we did not have CAST logs"
   ]
  },
  {
   "cell_type": "code",
   "execution_count": 13,
   "id": "b9432847",
   "metadata": {},
   "outputs": [],
   "source": [
    "def remove_without_cast(df, df_interp1d):\n",
    "    min_tdep = df_interp1d['TDEP'].min()\n",
    "    max_tdep = df_interp1d['TDEP'].max()\n",
    "\n",
    "    df = df[(df['TDEP'] >= min_tdep) & (df['TDEP'] <= max_tdep)]\n",
    "    df = df.reset_index(drop=True)\n",
    "    return df"
   ]
  },
  {
   "cell_type": "code",
   "execution_count": 14,
   "id": "85970062",
   "metadata": {},
   "outputs": [],
   "source": [
    "gr_data = remove_without_cast(gr_data, gr_alinhado)\n",
    "rhob_drho_data = remove_without_cast(rhob_drho_data, rhob_alinhado)"
   ]
  },
  {
   "cell_type": "markdown",
   "id": "93faff10",
   "metadata": {},
   "source": [
    "### Plotting original conventional and interpolated well logs"
   ]
  },
  {
   "cell_type": "code",
   "execution_count": 15,
   "id": "c7335717",
   "metadata": {},
   "outputs": [
    {
     "name": "stdout",
     "output_type": "stream",
     "text": [
      "Gráfico salvo em gr_normal_high_resolution_04.pdf\n"
     ]
    }
   ],
   "source": [
    "from matplotlib.backends.backend_pdf import PdfPages\n",
    "\n",
    "# plot_gr_logs(gr_fino, \"GR - High Resolution\")\n",
    "\n",
    "plot_gr_logs_2_wells_high_res(gr_data, gr_alinhado, \"GR - Normal X High Resolution\")\n",
    "# Nome do arquivo PDF onde o gráfico será salvo\n",
    "pdf_filename = \"gr_normal_high_resolution_04.pdf\"\n",
    "\n",
    "# Criar o PDF e salvar o gráfico atual\n",
    "with PdfPages(pdf_filename) as pdf:\n",
    "    pdf.savefig()  # Salva o gráfico atual\n",
    "    plt.close()    # Fecha o gráfico para evitar sobreposição\n",
    "\n",
    "print(f\"Gráfico salvo em {pdf_filename}\")"
   ]
  },
  {
   "cell_type": "code",
   "execution_count": 16,
   "id": "12f5d458",
   "metadata": {},
   "outputs": [
    {
     "name": "stdout",
     "output_type": "stream",
     "text": [
      "Gráfico salvo em rhob_drho_v01.pdf\n"
     ]
    }
   ],
   "source": [
    "from matplotlib.backends.backend_pdf import PdfPages\n",
    "\n",
    "# plot_gr_logs(gr_fino, \"GR - High Resolution\")\n",
    "plot_rhob_drho_high_res(\n",
    "    rhob_drho_data[['TDEP', 'RHOB']], \n",
    "    rhob_alinhado, \n",
    "    rhob_drho_data[['TDEP', 'DRHO']],\n",
    "    drho_alinhado,\n",
    "    \"Interpolacao RHOB\",\n",
    "    \"Interpolacao DRHO\"\n",
    ")\n",
    "\n",
    "# Nome do arquivo PDF onde o gráfico será salvo\n",
    "pdf_filename = \"rhob_drho_v01.pdf\"\n",
    "\n",
    "# Criar o PDF e salvar o gráfico atual\n",
    "with PdfPages(pdf_filename) as pdf:\n",
    "    pdf.savefig()  # Salva o gráfico atual\n",
    "    plt.close()    # Fecha o gráfico para evitar sobreposição\n",
    "\n",
    "print(f\"Gráfico salvo em {pdf_filename}\")"
   ]
  },
  {
   "cell_type": "markdown",
   "id": "f2fe3d8b",
   "metadata": {},
   "source": [
    "### Merging the dataframes with the conventional well logs and the CAST logs"
   ]
  },
  {
   "cell_type": "code",
   "execution_count": 17,
   "id": "b2c9a76e",
   "metadata": {},
   "outputs": [
    {
     "name": "stdout",
     "output_type": "stream",
     "text": [
      "     TDEP  contrast  dissimilarity  homogeneity  energy  correlation  entropy  \\\n",
      "0  427.12       0.0            0.0          1.0     1.0          1.0      0.0   \n",
      "1  427.13       0.0            0.0          1.0     1.0          1.0      0.0   \n",
      "2  427.14       0.0            0.0          1.0     1.0          1.0      0.0   \n",
      "3  427.15       0.0            0.0          1.0     1.0          1.0      0.0   \n",
      "4  427.16       0.0            0.0          1.0     1.0          1.0      0.0   \n",
      "\n",
      "        GR    RHOB    DRHO  \n",
      "0  97.0781  2.1704 -0.4605  \n",
      "1  97.3229  2.1703 -0.4603  \n",
      "2  97.5676  2.1701 -0.4601  \n",
      "3  97.8123  2.1700 -0.4600  \n",
      "4  98.0570  2.1699 -0.4598  \n"
     ]
    }
   ],
   "source": [
    "merged_gr = pd.merge(\n",
    "    results,\n",
    "    gr_alinhado, \n",
    "    on='TDEP',\n",
    "    how='left'\n",
    ")\n",
    "\n",
    "merged_rhob = pd.merge(\n",
    "    merged_gr,\n",
    "    rhob_alinhado, \n",
    "    on='TDEP',\n",
    "    how='left'\n",
    ")\n",
    "\n",
    "merged_drho = pd.merge(\n",
    "    merged_rhob,\n",
    "    drho_alinhado, \n",
    "    on='TDEP',\n",
    "    how='left'\n",
    ")\n",
    "\n",
    "print(merged_drho.head())\n",
    "\n",
    "merged_drho.to_csv('cast_gr_rhob_drho.csv', index=False)"
   ]
  }
 ],
 "metadata": {
  "kernelspec": {
   "display_name": "venv",
   "language": "python",
   "name": "python3"
  },
  "language_info": {
   "codemirror_mode": {
    "name": "ipython",
    "version": 3
   },
   "file_extension": ".py",
   "mimetype": "text/x-python",
   "name": "python",
   "nbconvert_exporter": "python",
   "pygments_lexer": "ipython3",
   "version": "3.12.7"
  }
 },
 "nbformat": 4,
 "nbformat_minor": 5
}
