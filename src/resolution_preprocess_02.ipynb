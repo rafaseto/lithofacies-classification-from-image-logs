{
 "cells": [
  {
   "cell_type": "code",
   "execution_count": 1,
   "id": "d7e0070d",
   "metadata": {},
   "outputs": [],
   "source": [
    "import pandas as pd\n",
    "import os \n",
    "from scipy.interpolate import interp1d\n",
    "from utils.data_plotting import *"
   ]
  },
  {
   "cell_type": "markdown",
   "id": "afc14f4a",
   "metadata": {},
   "source": [
    "### Load the texture data into a df"
   ]
  },
  {
   "cell_type": "code",
   "execution_count": 2,
   "id": "b0e76000",
   "metadata": {},
   "outputs": [],
   "source": [
    "texture_df = pd.read_csv(\"texturas_extraidas_cast.csv\")"
   ]
  },
  {
   "cell_type": "markdown",
   "id": "053a290a",
   "metadata": {},
   "source": [
    "### Create bins of 1cm (calling it TDEP)"
   ]
  },
  {
   "cell_type": "code",
   "execution_count": 3,
   "id": "2fd1f7a3",
   "metadata": {},
   "outputs": [],
   "source": [
    "# The interval we want\n",
    "step = 0.01\n",
    "\n",
    "# Floor division and round to the nearest below\n",
    "texture_df['TDEP'] = (texture_df['Profundidade'] // step) * step"
   ]
  },
  {
   "cell_type": "markdown",
   "id": "a4505b37",
   "metadata": {},
   "source": [
    "### Round all the texture variables to 4"
   ]
  },
  {
   "cell_type": "code",
   "execution_count": 4,
   "id": "28c5877c",
   "metadata": {},
   "outputs": [],
   "source": [
    "texture_df = texture_df.round(4)"
   ]
  },
  {
   "cell_type": "code",
   "execution_count": 5,
   "id": "e6eb7010",
   "metadata": {},
   "outputs": [],
   "source": [
    "texture_df.to_csv('texturas_bins.csv', index=False)"
   ]
  },
  {
   "cell_type": "markdown",
   "id": "e33219cd",
   "metadata": {},
   "source": [
    "### Use the mean and group by the bins"
   ]
  },
  {
   "cell_type": "code",
   "execution_count": 6,
   "id": "ba6ee4b3",
   "metadata": {},
   "outputs": [],
   "source": [
    "stats = {\n",
    "    'contrast':      'mean',\n",
    "    'dissimilarity': 'mean',\n",
    "    'homogeneity':   'mean',\n",
    "    'energy':        'mean',\n",
    "    'correlation':   'mean',\n",
    "    'entropy':       'mean'\n",
    "}\n",
    "\n",
    "results = texture_df.groupby('TDEP').agg(stats).reset_index()"
   ]
  },
  {
   "cell_type": "markdown",
   "id": "1229a282",
   "metadata": {},
   "source": [
    "### Round TDEP (e.g. 467.84000000000003 to 467.84)"
   ]
  },
  {
   "cell_type": "code",
   "execution_count": 7,
   "id": "dda4b582",
   "metadata": {},
   "outputs": [],
   "source": [
    "results['TDEP'] = results['TDEP'].round(2)\n",
    "results = results.round(4)"
   ]
  },
  {
   "cell_type": "markdown",
   "id": "1f4d5238",
   "metadata": {},
   "source": [
    "### Save the data into a CSV"
   ]
  },
  {
   "cell_type": "code",
   "execution_count": 8,
   "id": "72a8ef42",
   "metadata": {},
   "outputs": [],
   "source": [
    "results.to_csv('texturas_cast_res_preprocessed.csv', index=False)"
   ]
  },
  {
   "cell_type": "markdown",
   "id": "5acc1f41",
   "metadata": {},
   "source": [
    "### Get the convetional well logs from the same well"
   ]
  },
  {
   "cell_type": "code",
   "execution_count": 9,
   "id": "ed92172c",
   "metadata": {},
   "outputs": [],
   "source": [
    "base_path = os.path.join('..', 'data', 'dlis_preprocessed_cast', '3-BRSA-778-SE', 'logical_file_0', 'frame_0.csv')\n",
    "conventional_data = pd.read_csv(base_path)"
   ]
  },
  {
   "cell_type": "markdown",
   "id": "b0b52d37",
   "metadata": {},
   "source": [
    "### Testing with GR first"
   ]
  },
  {
   "cell_type": "code",
   "execution_count": 10,
   "id": "80b65488",
   "metadata": {},
   "outputs": [],
   "source": [
    "conventional_data = conventional_data.iloc[::-1].reset_index(drop=True)\n",
    "gr_data = conventional_data[['TDEP', 'GR']]\n",
    "gr_data = gr_data.dropna(subset=['GR'])"
   ]
  },
  {
   "cell_type": "code",
   "execution_count": 11,
   "id": "28357bc9",
   "metadata": {},
   "outputs": [],
   "source": [
    "# 1. Crie o interpolador a partir dos seus dados originais de GR\n",
    "interp_func = interp1d(\n",
    "    gr_data['TDEP'],        # prof. originais do gr\n",
    "    gr_data['GR'],          # valores de GR originais\n",
    "    kind='linear',          # cria uma linha reta entre dois vals de GR.\n",
    ")\n",
    "\n",
    "# 2. Usando o intervalo de profundidade da imagem CAST\n",
    "nova_tdep = results['TDEP'].values\n",
    "\n",
    "min_gr_tdep = gr_data['TDEP'].min()\n",
    "max_gr_tdep = gr_data['TDEP'].max()\n",
    "nova_tdep = nova_tdep[(nova_tdep >= min_gr_tdep) & (nova_tdep <= max_gr_tdep)]\n"
   ]
  },
  {
   "cell_type": "code",
   "execution_count": 12,
   "id": "6be65d0e",
   "metadata": {},
   "outputs": [
    {
     "data": {
      "text/plain": [
       "array([427.12, 427.13, 427.14, ..., 689.88, 689.89, 689.9 ])"
      ]
     },
     "execution_count": 12,
     "metadata": {},
     "output_type": "execute_result"
    }
   ],
   "source": [
    "nova_tdep"
   ]
  },
  {
   "cell_type": "code",
   "execution_count": 13,
   "id": "637e557d",
   "metadata": {},
   "outputs": [
    {
     "name": "stdout",
     "output_type": "stream",
     "text": [
      "     TDEP        GR\n",
      "0  427.12  97.07814\n",
      "1  427.13  97.32286\n",
      "2  427.14  97.56758\n",
      "3  427.15  97.81230\n",
      "4  427.16  98.05702\n"
     ]
    }
   ],
   "source": [
    "# 3. Gera valores de GR interpolados seguindo a reta entre dois pontos\n",
    "nova_gr = interp_func(nova_tdep)\n",
    "\n",
    "# 4. criando o df\n",
    "gr_alinhado = pd.DataFrame({\n",
    "    'TDEP': nova_tdep,\n",
    "    'GR': nova_gr\n",
    "})\n",
    "\n",
    "print(gr_alinhado.head())"
   ]
  },
  {
   "cell_type": "code",
   "execution_count": 14,
   "id": "b9432847",
   "metadata": {},
   "outputs": [
    {
     "name": "stdout",
     "output_type": "stream",
     "text": [
      "       TDEP       GR\n",
      "4117  427.2  99.0359\n",
      "4118  427.3  93.0179\n",
      "4119  427.4  91.1767\n",
      "4120  427.5  91.8708\n",
      "4121  427.6  95.5266\n"
     ]
    }
   ],
   "source": [
    "min_tdep = gr_alinhado['TDEP'].min()\n",
    "max_tdep = gr_alinhado['TDEP'].max()\n",
    "\n",
    "gr_data = gr_data[(gr_data['TDEP'] >= min_tdep) & (gr_data['TDEP'] <= max_tdep)]\n",
    "print(gr_data.head())"
   ]
  },
  {
   "cell_type": "code",
   "execution_count": 15,
   "id": "801ca7d9",
   "metadata": {},
   "outputs": [
    {
     "data": {
      "text/html": [
       "<div>\n",
       "<style scoped>\n",
       "    .dataframe tbody tr th:only-of-type {\n",
       "        vertical-align: middle;\n",
       "    }\n",
       "\n",
       "    .dataframe tbody tr th {\n",
       "        vertical-align: top;\n",
       "    }\n",
       "\n",
       "    .dataframe thead th {\n",
       "        text-align: right;\n",
       "    }\n",
       "</style>\n",
       "<table border=\"1\" class=\"dataframe\">\n",
       "  <thead>\n",
       "    <tr style=\"text-align: right;\">\n",
       "      <th></th>\n",
       "      <th>TDEP</th>\n",
       "      <th>GR</th>\n",
       "    </tr>\n",
       "  </thead>\n",
       "  <tbody>\n",
       "    <tr>\n",
       "      <th>4117</th>\n",
       "      <td>427.2</td>\n",
       "      <td>99.0359</td>\n",
       "    </tr>\n",
       "    <tr>\n",
       "      <th>4118</th>\n",
       "      <td>427.3</td>\n",
       "      <td>93.0179</td>\n",
       "    </tr>\n",
       "    <tr>\n",
       "      <th>4119</th>\n",
       "      <td>427.4</td>\n",
       "      <td>91.1767</td>\n",
       "    </tr>\n",
       "    <tr>\n",
       "      <th>4120</th>\n",
       "      <td>427.5</td>\n",
       "      <td>91.8708</td>\n",
       "    </tr>\n",
       "    <tr>\n",
       "      <th>4121</th>\n",
       "      <td>427.6</td>\n",
       "      <td>95.5266</td>\n",
       "    </tr>\n",
       "    <tr>\n",
       "      <th>...</th>\n",
       "      <td>...</td>\n",
       "      <td>...</td>\n",
       "    </tr>\n",
       "    <tr>\n",
       "      <th>6740</th>\n",
       "      <td>689.5</td>\n",
       "      <td>125.0809</td>\n",
       "    </tr>\n",
       "    <tr>\n",
       "      <th>6741</th>\n",
       "      <td>689.6</td>\n",
       "      <td>134.6699</td>\n",
       "    </tr>\n",
       "    <tr>\n",
       "      <th>6742</th>\n",
       "      <td>689.7</td>\n",
       "      <td>135.7736</td>\n",
       "    </tr>\n",
       "    <tr>\n",
       "      <th>6743</th>\n",
       "      <td>689.8</td>\n",
       "      <td>133.0201</td>\n",
       "    </tr>\n",
       "    <tr>\n",
       "      <th>6744</th>\n",
       "      <td>689.9</td>\n",
       "      <td>123.6773</td>\n",
       "    </tr>\n",
       "  </tbody>\n",
       "</table>\n",
       "<p>2628 rows × 2 columns</p>\n",
       "</div>"
      ],
      "text/plain": [
       "       TDEP        GR\n",
       "4117  427.2   99.0359\n",
       "4118  427.3   93.0179\n",
       "4119  427.4   91.1767\n",
       "4120  427.5   91.8708\n",
       "4121  427.6   95.5266\n",
       "...     ...       ...\n",
       "6740  689.5  125.0809\n",
       "6741  689.6  134.6699\n",
       "6742  689.7  135.7736\n",
       "6743  689.8  133.0201\n",
       "6744  689.9  123.6773\n",
       "\n",
       "[2628 rows x 2 columns]"
      ]
     },
     "execution_count": 15,
     "metadata": {},
     "output_type": "execute_result"
    }
   ],
   "source": [
    "gr_data"
   ]
  },
  {
   "cell_type": "code",
   "execution_count": 16,
   "id": "a05ad09c",
   "metadata": {},
   "outputs": [
    {
     "data": {
      "text/html": [
       "<div>\n",
       "<style scoped>\n",
       "    .dataframe tbody tr th:only-of-type {\n",
       "        vertical-align: middle;\n",
       "    }\n",
       "\n",
       "    .dataframe tbody tr th {\n",
       "        vertical-align: top;\n",
       "    }\n",
       "\n",
       "    .dataframe thead th {\n",
       "        text-align: right;\n",
       "    }\n",
       "</style>\n",
       "<table border=\"1\" class=\"dataframe\">\n",
       "  <thead>\n",
       "    <tr style=\"text-align: right;\">\n",
       "      <th></th>\n",
       "      <th>TDEP</th>\n",
       "      <th>GR</th>\n",
       "    </tr>\n",
       "  </thead>\n",
       "  <tbody>\n",
       "    <tr>\n",
       "      <th>0</th>\n",
       "      <td>427.12</td>\n",
       "      <td>97.07814</td>\n",
       "    </tr>\n",
       "    <tr>\n",
       "      <th>1</th>\n",
       "      <td>427.13</td>\n",
       "      <td>97.32286</td>\n",
       "    </tr>\n",
       "    <tr>\n",
       "      <th>2</th>\n",
       "      <td>427.14</td>\n",
       "      <td>97.56758</td>\n",
       "    </tr>\n",
       "    <tr>\n",
       "      <th>3</th>\n",
       "      <td>427.15</td>\n",
       "      <td>97.81230</td>\n",
       "    </tr>\n",
       "    <tr>\n",
       "      <th>4</th>\n",
       "      <td>427.16</td>\n",
       "      <td>98.05702</td>\n",
       "    </tr>\n",
       "    <tr>\n",
       "      <th>...</th>\n",
       "      <td>...</td>\n",
       "      <td>...</td>\n",
       "    </tr>\n",
       "    <tr>\n",
       "      <th>26274</th>\n",
       "      <td>689.86</td>\n",
       "      <td>127.41442</td>\n",
       "    </tr>\n",
       "    <tr>\n",
       "      <th>26275</th>\n",
       "      <td>689.87</td>\n",
       "      <td>126.48014</td>\n",
       "    </tr>\n",
       "    <tr>\n",
       "      <th>26276</th>\n",
       "      <td>689.88</td>\n",
       "      <td>125.54586</td>\n",
       "    </tr>\n",
       "    <tr>\n",
       "      <th>26277</th>\n",
       "      <td>689.89</td>\n",
       "      <td>124.61158</td>\n",
       "    </tr>\n",
       "    <tr>\n",
       "      <th>26278</th>\n",
       "      <td>689.90</td>\n",
       "      <td>123.67730</td>\n",
       "    </tr>\n",
       "  </tbody>\n",
       "</table>\n",
       "<p>26279 rows × 2 columns</p>\n",
       "</div>"
      ],
      "text/plain": [
       "         TDEP         GR\n",
       "0      427.12   97.07814\n",
       "1      427.13   97.32286\n",
       "2      427.14   97.56758\n",
       "3      427.15   97.81230\n",
       "4      427.16   98.05702\n",
       "...       ...        ...\n",
       "26274  689.86  127.41442\n",
       "26275  689.87  126.48014\n",
       "26276  689.88  125.54586\n",
       "26277  689.89  124.61158\n",
       "26278  689.90  123.67730\n",
       "\n",
       "[26279 rows x 2 columns]"
      ]
     },
     "execution_count": 16,
     "metadata": {},
     "output_type": "execute_result"
    }
   ],
   "source": [
    "gr_alinhado"
   ]
  },
  {
   "cell_type": "code",
   "execution_count": 17,
   "id": "c7335717",
   "metadata": {},
   "outputs": [
    {
     "name": "stdout",
     "output_type": "stream",
     "text": [
      "Gráfico salvo em gr_normal_high_resolution_04.pdf\n"
     ]
    }
   ],
   "source": [
    "from matplotlib.backends.backend_pdf import PdfPages\n",
    "# plot_gr_logs(gr_fino, \"GR - High Resolution\")\n",
    "plot_gr_logs_2_wells_high_res(gr_data, gr_alinhado, \"GR - Normal X High Resolution\")\n",
    "# Nome do arquivo PDF onde o gráfico será salvo\n",
    "pdf_filename = \"gr_normal_high_resolution_04.pdf\"\n",
    "\n",
    "# Criar o PDF e salvar o gráfico atual\n",
    "with PdfPages(pdf_filename) as pdf:\n",
    "    pdf.savefig()  # Salva o gráfico atual\n",
    "    plt.close()    # Fecha o gráfico para evitar sobreposição\n",
    "\n",
    "print(f\"Gráfico salvo em {pdf_filename}\")"
   ]
  }
 ],
 "metadata": {
  "kernelspec": {
   "display_name": "venv",
   "language": "python",
   "name": "python3"
  },
  "language_info": {
   "codemirror_mode": {
    "name": "ipython",
    "version": 3
   },
   "file_extension": ".py",
   "mimetype": "text/x-python",
   "name": "python",
   "nbconvert_exporter": "python",
   "pygments_lexer": "ipython3",
   "version": "3.12.7"
  }
 },
 "nbformat": 4,
 "nbformat_minor": 5
}
