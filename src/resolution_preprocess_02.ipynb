{
 "cells": [
  {
   "cell_type": "code",
   "execution_count": 1,
   "id": "d7e0070d",
   "metadata": {},
   "outputs": [],
   "source": [
    "import pandas as pd"
   ]
  },
  {
   "cell_type": "markdown",
   "id": "afc14f4a",
   "metadata": {},
   "source": [
    "### Load the texture data into a df"
   ]
  },
  {
   "cell_type": "code",
   "execution_count": 2,
   "id": "b0e76000",
   "metadata": {},
   "outputs": [],
   "source": [
    "texture_df = pd.read_csv(\"texturas_extraidas_cast.csv\")"
   ]
  },
  {
   "cell_type": "markdown",
   "id": "053a290a",
   "metadata": {},
   "source": [
    "### Create bins of 1cm (calling it TDEP)"
   ]
  },
  {
   "cell_type": "code",
   "execution_count": 3,
   "id": "2fd1f7a3",
   "metadata": {},
   "outputs": [],
   "source": [
    "# The interval we want\n",
    "step = 0.01\n",
    "\n",
    "# Floor division and round to the nearest below\n",
    "texture_df['TDEP'] = (texture_df['Profundidade'] // step) * step"
   ]
  },
  {
   "cell_type": "markdown",
   "id": "e33219cd",
   "metadata": {},
   "source": [
    "### Use the mean and group by the bins"
   ]
  },
  {
   "cell_type": "code",
   "execution_count": 4,
   "id": "ba6ee4b3",
   "metadata": {},
   "outputs": [],
   "source": [
    "stats = {\n",
    "    'contrast':      'mean',\n",
    "    'dissimilarity': 'mean',\n",
    "    'homogeneity':   'mean',\n",
    "    'energy':        'mean',\n",
    "    'correlation':   'mean',\n",
    "    'entropy':       'mean'\n",
    "}\n",
    "\n",
    "results = texture_df.groupby('TDEP').agg(stats).reset_index()"
   ]
  },
  {
   "cell_type": "markdown",
   "id": "1229a282",
   "metadata": {},
   "source": [
    "### Round TDEP (e.g. 467.84000000000003 to 467.84)"
   ]
  },
  {
   "cell_type": "code",
   "execution_count": 5,
   "id": "dda4b582",
   "metadata": {},
   "outputs": [],
   "source": [
    "results['TDEP'] = results['TDEP'].round(2)"
   ]
  },
  {
   "cell_type": "markdown",
   "id": "1f4d5238",
   "metadata": {},
   "source": [
    "### Save the data into a CSV"
   ]
  },
  {
   "cell_type": "code",
   "execution_count": 6,
   "id": "72a8ef42",
   "metadata": {},
   "outputs": [],
   "source": [
    "results.to_csv('texturas_extraidas_cast_v02.csv', index=False)"
   ]
  }
 ],
 "metadata": {
  "kernelspec": {
   "display_name": "venv",
   "language": "python",
   "name": "python3"
  },
  "language_info": {
   "codemirror_mode": {
    "name": "ipython",
    "version": 3
   },
   "file_extension": ".py",
   "mimetype": "text/x-python",
   "name": "python",
   "nbconvert_exporter": "python",
   "pygments_lexer": "ipython3",
   "version": "3.12.7"
  }
 },
 "nbformat": 4,
 "nbformat_minor": 5
}
