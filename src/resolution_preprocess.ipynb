{
 "cells": [
  {
   "cell_type": "code",
   "execution_count": 1,
   "id": "809855ee",
   "metadata": {},
   "outputs": [],
   "source": [
    "from utils.data_preprocessing import *\n",
    "import pandas as pd\n",
    "import numpy as np\n",
    "from scipy.interpolate import interp1d\n",
    "from utils.data_plotting import *\n",
    "from utils.data_preprocessing import *"
   ]
  },
  {
   "cell_type": "code",
   "execution_count": 2,
   "id": "e2f28a66",
   "metadata": {},
   "outputs": [],
   "source": [
    "base_path = os.path.join('..', 'data', 'dlis_preprocessed_cast', '3-BRSA-778-SE', 'logical_file_0', 'frame_0.csv')"
   ]
  },
  {
   "cell_type": "code",
   "execution_count": 8,
   "id": "4097aace",
   "metadata": {},
   "outputs": [],
   "source": [
    "csv_data = pd.read_csv(base_path)\n",
    "cast_data = pd.read_csv(\"texturas.csv\")\n",
    "cast_data = cast_data.drop(columns=['Unnamed: 0'])"
   ]
  },
  {
   "cell_type": "code",
   "execution_count": 17,
   "id": "da3b74ff",
   "metadata": {},
   "outputs": [],
   "source": [
    "cast_data.to_csv(\"texturas_extraidas_cast.csv\", index=False)"
   ]
  },
  {
   "cell_type": "code",
   "execution_count": 10,
   "id": "14c145be",
   "metadata": {},
   "outputs": [
    {
     "data": {
      "text/html": [
       "<div>\n",
       "<style scoped>\n",
       "    .dataframe tbody tr th:only-of-type {\n",
       "        vertical-align: middle;\n",
       "    }\n",
       "\n",
       "    .dataframe tbody tr th {\n",
       "        vertical-align: top;\n",
       "    }\n",
       "\n",
       "    .dataframe thead th {\n",
       "        text-align: right;\n",
       "    }\n",
       "</style>\n",
       "<table border=\"1\" class=\"dataframe\">\n",
       "  <thead>\n",
       "    <tr style=\"text-align: right;\">\n",
       "      <th></th>\n",
       "      <th>TDEP</th>\n",
       "      <th>GR</th>\n",
       "    </tr>\n",
       "  </thead>\n",
       "  <tbody>\n",
       "    <tr>\n",
       "      <th>71</th>\n",
       "      <td>22.6</td>\n",
       "      <td>52.5728</td>\n",
       "    </tr>\n",
       "    <tr>\n",
       "      <th>72</th>\n",
       "      <td>22.7</td>\n",
       "      <td>47.8615</td>\n",
       "    </tr>\n",
       "    <tr>\n",
       "      <th>73</th>\n",
       "      <td>22.8</td>\n",
       "      <td>45.2978</td>\n",
       "    </tr>\n",
       "    <tr>\n",
       "      <th>74</th>\n",
       "      <td>22.9</td>\n",
       "      <td>44.4987</td>\n",
       "    </tr>\n",
       "    <tr>\n",
       "      <th>75</th>\n",
       "      <td>23.0</td>\n",
       "      <td>53.6382</td>\n",
       "    </tr>\n",
       "    <tr>\n",
       "      <th>...</th>\n",
       "      <td>...</td>\n",
       "      <td>...</td>\n",
       "    </tr>\n",
       "    <tr>\n",
       "      <th>6740</th>\n",
       "      <td>689.5</td>\n",
       "      <td>125.0809</td>\n",
       "    </tr>\n",
       "    <tr>\n",
       "      <th>6741</th>\n",
       "      <td>689.6</td>\n",
       "      <td>134.6699</td>\n",
       "    </tr>\n",
       "    <tr>\n",
       "      <th>6742</th>\n",
       "      <td>689.7</td>\n",
       "      <td>135.7736</td>\n",
       "    </tr>\n",
       "    <tr>\n",
       "      <th>6743</th>\n",
       "      <td>689.8</td>\n",
       "      <td>133.0201</td>\n",
       "    </tr>\n",
       "    <tr>\n",
       "      <th>6744</th>\n",
       "      <td>689.9</td>\n",
       "      <td>123.6773</td>\n",
       "    </tr>\n",
       "  </tbody>\n",
       "</table>\n",
       "<p>6674 rows × 2 columns</p>\n",
       "</div>"
      ],
      "text/plain": [
       "       TDEP        GR\n",
       "71     22.6   52.5728\n",
       "72     22.7   47.8615\n",
       "73     22.8   45.2978\n",
       "74     22.9   44.4987\n",
       "75     23.0   53.6382\n",
       "...     ...       ...\n",
       "6740  689.5  125.0809\n",
       "6741  689.6  134.6699\n",
       "6742  689.7  135.7736\n",
       "6743  689.8  133.0201\n",
       "6744  689.9  123.6773\n",
       "\n",
       "[6674 rows x 2 columns]"
      ]
     },
     "execution_count": 10,
     "metadata": {},
     "output_type": "execute_result"
    }
   ],
   "source": [
    "csv_data = csv_data.iloc[::-1].reset_index(drop=True)\n",
    "gr_data = csv_data[['TDEP', 'GR']]\n",
    "gr_data = gr_data.dropna(subset=['GR'])\n",
    "gr_data"
   ]
  },
  {
   "cell_type": "code",
   "execution_count": null,
   "id": "c1200516",
   "metadata": {},
   "outputs": [
    {
     "name": "stdout",
     "output_type": "stream",
     "text": [
      "         TDEP         GR\n",
      "0  427.123500  97.163792\n",
      "1  427.128500  97.286152\n",
      "2  427.133499  97.408488\n",
      "3  427.138499  97.530848\n",
      "4  427.143499  97.653208\n"
     ]
    }
   ],
   "source": [
    "import numpy as np\n",
    "import pandas as pd\n",
    "from scipy.interpolate import interp1d\n",
    "\n",
    "# 1. Crie o interpolador a partir dos seus dados originais de GR\n",
    "interp_func = interp1d(\n",
    "    gr_data['TDEP'],        # prof. originais do gr\n",
    "    gr_data['GR'],          # valores de GR originais\n",
    "    kind='linear',          # cria uma linha reta entre dois vals de GR.\n",
    ")\n",
    "\n",
    "# 2. Usando o intervalo de profundidade da imagem CAST\n",
    "nova_tdep = cast_data['Profundidade'].values \n",
    "\n",
    "# 3. Gera valores de GR interpolados seguindo a reta entre dois pontos\n",
    "nova_gr = interp_func(nova_tdep)\n",
    "\n",
    "# 4. criando o df\n",
    "gr_alinhado = pd.DataFrame({\n",
    "    'TDEP': nova_tdep,\n",
    "    'GR': nova_gr\n",
    "})\n",
    "\n",
    "print(gr_alinhado.head())\n"
   ]
  },
  {
   "cell_type": "code",
   "execution_count": null,
   "id": "0df96e45",
   "metadata": {},
   "outputs": [],
   "source": [
    "gr_data"
   ]
  },
  {
   "cell_type": "code",
   "execution_count": 12,
   "id": "ae9b32e0",
   "metadata": {},
   "outputs": [
    {
     "data": {
      "text/html": [
       "<div>\n",
       "<style scoped>\n",
       "    .dataframe tbody tr th:only-of-type {\n",
       "        vertical-align: middle;\n",
       "    }\n",
       "\n",
       "    .dataframe tbody tr th {\n",
       "        vertical-align: top;\n",
       "    }\n",
       "\n",
       "    .dataframe thead th {\n",
       "        text-align: right;\n",
       "    }\n",
       "</style>\n",
       "<table border=\"1\" class=\"dataframe\">\n",
       "  <thead>\n",
       "    <tr style=\"text-align: right;\">\n",
       "      <th></th>\n",
       "      <th>TDEP</th>\n",
       "      <th>GR</th>\n",
       "    </tr>\n",
       "  </thead>\n",
       "  <tbody>\n",
       "    <tr>\n",
       "      <th>0</th>\n",
       "      <td>427.123500</td>\n",
       "      <td>97.163792</td>\n",
       "    </tr>\n",
       "    <tr>\n",
       "      <th>1</th>\n",
       "      <td>427.128500</td>\n",
       "      <td>97.286152</td>\n",
       "    </tr>\n",
       "    <tr>\n",
       "      <th>2</th>\n",
       "      <td>427.133499</td>\n",
       "      <td>97.408488</td>\n",
       "    </tr>\n",
       "    <tr>\n",
       "      <th>3</th>\n",
       "      <td>427.138499</td>\n",
       "      <td>97.530848</td>\n",
       "    </tr>\n",
       "    <tr>\n",
       "      <th>4</th>\n",
       "      <td>427.143499</td>\n",
       "      <td>97.653208</td>\n",
       "    </tr>\n",
       "    <tr>\n",
       "      <th>...</th>\n",
       "      <td>...</td>\n",
       "      <td>...</td>\n",
       "    </tr>\n",
       "    <tr>\n",
       "      <th>55965</th>\n",
       "      <td>706.943501</td>\n",
       "      <td>-1468.662911</td>\n",
       "    </tr>\n",
       "    <tr>\n",
       "      <th>55966</th>\n",
       "      <td>706.948501</td>\n",
       "      <td>-1469.130051</td>\n",
       "    </tr>\n",
       "    <tr>\n",
       "      <th>55967</th>\n",
       "      <td>706.953501</td>\n",
       "      <td>-1469.597191</td>\n",
       "    </tr>\n",
       "    <tr>\n",
       "      <th>55968</th>\n",
       "      <td>706.958501</td>\n",
       "      <td>-1470.064331</td>\n",
       "    </tr>\n",
       "    <tr>\n",
       "      <th>55969</th>\n",
       "      <td>706.963501</td>\n",
       "      <td>-1470.531471</td>\n",
       "    </tr>\n",
       "  </tbody>\n",
       "</table>\n",
       "<p>55970 rows × 2 columns</p>\n",
       "</div>"
      ],
      "text/plain": [
       "             TDEP           GR\n",
       "0      427.123500    97.163792\n",
       "1      427.128500    97.286152\n",
       "2      427.133499    97.408488\n",
       "3      427.138499    97.530848\n",
       "4      427.143499    97.653208\n",
       "...           ...          ...\n",
       "55965  706.943501 -1468.662911\n",
       "55966  706.948501 -1469.130051\n",
       "55967  706.953501 -1469.597191\n",
       "55968  706.958501 -1470.064331\n",
       "55969  706.963501 -1470.531471\n",
       "\n",
       "[55970 rows x 2 columns]"
      ]
     },
     "execution_count": 12,
     "metadata": {},
     "output_type": "execute_result"
    }
   ],
   "source": [
    "gr_alinhado"
   ]
  },
  {
   "cell_type": "code",
   "execution_count": null,
   "id": "941b9362",
   "metadata": {},
   "outputs": [],
   "source": [
    "from matplotlib.backends.backend_pdf import PdfPages\n",
    "# plot_gr_logs(gr_fino, \"GR - High Resolution\")\n",
    "plot_gr_logs_2_wells(gr_data, gr_alinhado, \"GR - Normal X High Resolution\")\n",
    "# Nome do arquivo PDF onde o gráfico será salvo\n",
    "pdf_filename = \"gr_normal_high_resolution_02.pdf\"\n",
    "\n",
    "# Criar o PDF e salvar o gráfico atual\n",
    "with PdfPages(pdf_filename) as pdf:\n",
    "    pdf.savefig()  # Salva o gráfico atual\n",
    "    plt.close()    # Fecha o gráfico para evitar sobreposição\n",
    "\n",
    "print(f\"Gráfico salvo em {pdf_filename}\")"
   ]
  },
  {
   "cell_type": "code",
   "execution_count": 14,
   "id": "5fefc2da",
   "metadata": {},
   "outputs": [],
   "source": [
    "gr_alinhado.to_csv(\"gr_high_resolution_02.csv\", index=False)"
   ]
  },
  {
   "cell_type": "code",
   "execution_count": 15,
   "id": "2b7d5b67",
   "metadata": {},
   "outputs": [],
   "source": [
    "gr_data.to_csv(\"gr_normal_resolution.csv\", index=False)"
   ]
  },
  {
   "cell_type": "code",
   "execution_count": null,
   "id": "3a2382db",
   "metadata": {},
   "outputs": [
    {
     "name": "stdout",
     "output_type": "stream",
     "text": [
      "   Profundidade  contrast  dissimilarity  homogeneity  energy  correlation  \\\n",
      "0    427.123500       0.0            0.0          1.0     1.0          1.0   \n",
      "1    427.128500       0.0            0.0          1.0     1.0          1.0   \n",
      "2    427.133499       0.0            0.0          1.0     1.0          1.0   \n",
      "3    427.138499       0.0            0.0          1.0     1.0          1.0   \n",
      "4    427.143499       0.0            0.0          1.0     1.0          1.0   \n",
      "\n",
      "   entropy         GR  \n",
      "0      0.0  97.163792  \n",
      "1      0.0  97.286152  \n",
      "2      0.0  97.408488  \n",
      "3      0.0  97.530848  \n",
      "4      0.0  97.653208  \n"
     ]
    }
   ],
   "source": [
    "# 1. Renomeia a coluna TDEP em gr_alinhado para 'Profundidade'\n",
    "gr_alinhado_ren = gr_alinhado.rename(columns={'TDEP': 'Profundidade'})\n",
    "\n",
    "# 2. Faz o merge usando 'Profundidade' como chave\n",
    "#    - how='left' garante que todas as linhas de cast_data apareçam, \n",
    "#      trazendo GR onde houver correspondência\n",
    "merged = pd.merge(\n",
    "    cast_data,\n",
    "    gr_alinhado_ren, \n",
    "    on='Profundidade',\n",
    "    how='left'\n",
    ")\n",
    "\n",
    "print(merged.head())\n",
    "\n",
    "merged.to_csv('cast_data_com_gr.csv', index=False)"
   ]
  }
 ],
 "metadata": {
  "kernelspec": {
   "display_name": "venv",
   "language": "python",
   "name": "python3"
  },
  "language_info": {
   "codemirror_mode": {
    "name": "ipython",
    "version": 3
   },
   "file_extension": ".py",
   "mimetype": "text/x-python",
   "name": "python",
   "nbconvert_exporter": "python",
   "pygments_lexer": "ipython3",
   "version": "3.12.7"
  }
 },
 "nbformat": 4,
 "nbformat_minor": 5
}
