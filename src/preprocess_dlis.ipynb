{
 "cells": [
  {
   "cell_type": "code",
   "execution_count": 1,
   "metadata": {},
   "outputs": [],
   "source": [
    "from utils.data_preprocessing import *\n",
    "import os"
   ]
  },
  {
   "cell_type": "code",
   "execution_count": 2,
   "metadata": {},
   "outputs": [],
   "source": [
    "base_path = os.path.join('..', 'data', 'csv_from_dlis_raw')\n",
    "csv_data = load_csv_files(base_path)"
   ]
  },
  {
   "cell_type": "markdown",
   "metadata": {},
   "source": [
    "### Rename the INDEX columns to TDEP"
   ]
  },
  {
   "cell_type": "code",
   "execution_count": 3,
   "metadata": {},
   "outputs": [],
   "source": [
    "for well, w_dict in csv_data.items():\n",
    "    for logical_file, lf_dict in w_dict.items():\n",
    "        for frame, df in lf_dict.items():\n",
    "            csv_data[well][logical_file][frame] = (\n",
    "                df.rename(\n",
    "                    columns=lambda col: 'TDEP' \n",
    "                    if col.startswith('INDEX') \n",
    "                    else col\n",
    "                )\n",
    "            )"
   ]
  },
  {
   "cell_type": "markdown",
   "metadata": {},
   "source": [
    "### Round TDEP"
   ]
  },
  {
   "cell_type": "code",
   "execution_count": 4,
   "metadata": {},
   "outputs": [],
   "source": [
    "for well, w_dict in csv_data.items():\n",
    "    for logical_file, lf_dict in w_dict.items():\n",
    "        for frame, df in lf_dict.items():\n",
    "            df['TDEP'] = df['TDEP'].round(1)"
   ]
  },
  {
   "cell_type": "markdown",
   "metadata": {},
   "source": [
    "### Remove -999.25 values"
   ]
  },
  {
   "cell_type": "code",
   "execution_count": 5,
   "metadata": {},
   "outputs": [],
   "source": [
    "for well, w_dict in csv_data.items():\n",
    "    for logical_file, lf_dict in w_dict.items():\n",
    "        for frame, df in lf_dict.items():\n",
    "            try:\n",
    "                df.replace([-999.25], [None], inplace = True)\n",
    "            except:\n",
    "                pass"
   ]
  },
  {
   "cell_type": "markdown",
   "metadata": {},
   "source": [
    "### Remove values near the coating"
   ]
  },
  {
   "cell_type": "code",
   "execution_count": 6,
   "metadata": {},
   "outputs": [],
   "source": [
    "base_path = os.path.join('..', 'data', 'agp')\n",
    "coating_data = extract_coating(base_path)"
   ]
  },
  {
   "cell_type": "code",
   "execution_count": 7,
   "metadata": {},
   "outputs": [],
   "source": [
    "for well, w_dict in csv_data.items():\n",
    "    for logical_file, lf_dict in w_dict.items():\n",
    "        for frame, df in lf_dict.items():\n",
    "            surface_coating = coating_data[well]['Rev. Superficie']\n",
    "            intermediary_coating = coating_data[well]['Rev. Intermed.']\n",
    "            \n",
    "            try:\n",
    "                # Remove values near the surface coating\n",
    "                diff_surface = abs(df['TDEP'].min() - surface_coating)\n",
    "                if diff_surface < 20:\n",
    "                    margin = surface_coating + 5\n",
    "                    lf_dict[frame] = df.loc[df['TDEP'] >= margin].reset_index(drop=True)\n",
    "\n",
    "                # Remove values near the intermediary coating\n",
    "                diff_intermediary = abs(df['TDEP'].min() - intermediary_coating)\n",
    "                if diff_intermediary < 20:\n",
    "                    margin = intermediary_coating + 5\n",
    "                    lf_dict[frame] = df.loc[df['TDEP'] >= margin].reset_index(drop=True)\n",
    "            except:\n",
    "                pass"
   ]
  },
  {
   "cell_type": "markdown",
   "metadata": {},
   "source": [
    "### Export the data to CSV files"
   ]
  },
  {
   "cell_type": "code",
   "execution_count": 8,
   "metadata": {},
   "outputs": [],
   "source": [
    "dfs_to_csv(csv_data, \"../data/dlis_preprocessed\")"
   ]
  }
 ],
 "metadata": {
  "kernelspec": {
   "display_name": "venv",
   "language": "python",
   "name": "python3"
  },
  "language_info": {
   "codemirror_mode": {
    "name": "ipython",
    "version": 3
   },
   "file_extension": ".py",
   "mimetype": "text/x-python",
   "name": "python",
   "nbconvert_exporter": "python",
   "pygments_lexer": "ipython3",
   "version": "3.12.7"
  }
 },
 "nbformat": 4,
 "nbformat_minor": 2
}
