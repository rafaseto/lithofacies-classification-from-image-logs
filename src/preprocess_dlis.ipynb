{
 "cells": [
  {
   "cell_type": "code",
   "execution_count": 1,
   "metadata": {},
   "outputs": [],
   "source": [
    "from utils.data_preprocessing import *\n",
    "import os"
   ]
  },
  {
   "cell_type": "code",
   "execution_count": 2,
   "metadata": {},
   "outputs": [],
   "source": [
    "base_path = os.path.join('..', 'data', 'csv_from_dlis_raw')\n",
    "csv_data = load_csv_files(base_path)"
   ]
  },
  {
   "cell_type": "markdown",
   "metadata": {},
   "source": [
    "### Drop FRAMENO column"
   ]
  },
  {
   "cell_type": "code",
   "execution_count": 3,
   "metadata": {},
   "outputs": [],
   "source": [
    "for well, w_dict in csv_data.items():\n",
    "    for logical_file, lf_dict in w_dict.items():\n",
    "        for frame, df in lf_dict.items():\n",
    "            csv_data[well][logical_file][frame] = df.drop('FRAMENO', axis=1)"
   ]
  },
  {
   "cell_type": "markdown",
   "metadata": {},
   "source": [
    "### Rename the INDEX columns to TDEP"
   ]
  },
  {
   "cell_type": "code",
   "execution_count": 4,
   "metadata": {},
   "outputs": [],
   "source": [
    "for well, w_dict in csv_data.items():\n",
    "    for logical_file, lf_dict in w_dict.items():\n",
    "        for frame, df in lf_dict.items():\n",
    "            csv_data[well][logical_file][frame] = (\n",
    "                df.rename(\n",
    "                    columns=lambda col: 'TDEP' \n",
    "                    if col.startswith('INDEX') \n",
    "                    else col\n",
    "                )\n",
    "            )"
   ]
  },
  {
   "cell_type": "markdown",
   "metadata": {},
   "source": [
    "### Round TDEP"
   ]
  },
  {
   "cell_type": "code",
   "execution_count": 5,
   "metadata": {},
   "outputs": [],
   "source": [
    "for well, w_dict in csv_data.items():\n",
    "    for logical_file, lf_dict in w_dict.items():\n",
    "        for frame, df in lf_dict.items():\n",
    "            df['TDEP'] = df['TDEP'].round(1)"
   ]
  },
  {
   "cell_type": "markdown",
   "metadata": {},
   "source": [
    "### Remove -999.25 values"
   ]
  },
  {
   "cell_type": "code",
   "execution_count": 6,
   "metadata": {},
   "outputs": [],
   "source": [
    "for well, w_dict in csv_data.items():\n",
    "    for logical_file, lf_dict in w_dict.items():\n",
    "        for frame, df in lf_dict.items():\n",
    "            try:\n",
    "                df.replace([-999.25], [None], inplace = True)\n",
    "            except:\n",
    "                pass"
   ]
  },
  {
   "cell_type": "markdown",
   "metadata": {},
   "source": [
    "### Remove values near the coating"
   ]
  },
  {
   "cell_type": "code",
   "execution_count": 7,
   "metadata": {},
   "outputs": [],
   "source": [
    "base_path = os.path.join('..', 'data', 'agp')\n",
    "coating_locations = extract_coating_location(base_path)"
   ]
  },
  {
   "cell_type": "code",
   "execution_count": 8,
   "metadata": {},
   "outputs": [],
   "source": [
    "for well, w_dict in csv_data.items():\n",
    "    # Coating locations\n",
    "    surface_coating = coating_locations[well]['Surface Coating']\n",
    "    intermediary_coating = coating_locations[well]['Intermediary Coating']\n",
    "\n",
    "    for logical_file, lf_dict in w_dict.items():\n",
    "        for frame, df in lf_dict.items():\n",
    "            \n",
    "            try:\n",
    "                # Remove values near the surface coating\n",
    "                diff_surface = abs(df['TDEP'].min() - surface_coating)\n",
    "                if diff_surface < 20:\n",
    "                    margin = surface_coating + 5\n",
    "                    lf_dict[frame] = df.loc[df['TDEP'] >= margin].reset_index(drop=True)\n",
    "\n",
    "                # Remove values near the intermediary coating\n",
    "                diff_intermediary = abs(df['TDEP'].min() - intermediary_coating)\n",
    "                if diff_intermediary < 20:\n",
    "                    margin = intermediary_coating + 5\n",
    "                    lf_dict[frame] = df.loc[df['TDEP'] >= margin].reset_index(drop=True)\n",
    "            except:\n",
    "                pass"
   ]
  },
  {
   "cell_type": "markdown",
   "metadata": {},
   "source": [
    "### Add BS"
   ]
  },
  {
   "cell_type": "code",
   "execution_count": 9,
   "metadata": {},
   "outputs": [
    {
     "name": "stdout",
     "output_type": "stream",
     "text": [
      "Exception with the intermediary coating of the well 1IDA 0001  SE: Expected a string, but got NoneType\n",
      "Exception with the intermediary coating of the well 1MO  0001  SE: Expected a string, but got NoneType\n"
     ]
    }
   ],
   "source": [
    "COATING_DRILL_DIAMETERS_MAPPING = {\n",
    "    \"30\": \"36\",\n",
    "    \"20\": \"26\",\n",
    "    \"13 3/8\": \"17 1/2\",\n",
    "    \"9 5/8\": \"12 1/4\"\n",
    "}\n",
    "coating_diameters = extract_coating_diameter(base_path)\n",
    "drill_diameters = calculate_drill_diameters(coating_diameters, COATING_DRILL_DIAMETERS_MAPPING)"
   ]
  },
  {
   "cell_type": "code",
   "execution_count": 10,
   "metadata": {},
   "outputs": [
    {
     "name": "stdout",
     "output_type": "stream",
     "text": [
      "Well 1IDA 0001  SE does not have intermediary coating\n",
      "Well 1MO  0001  SE does not have intermediary coating\n"
     ]
    }
   ],
   "source": [
    "for well, w_dict in csv_data.items():\n",
    "    # Coating locations\n",
    "    surface_coating_location = coating_locations[well]['Surface Coating']\n",
    "    intermediary_coating_location = coating_locations[well]['Intermediary Coating']\n",
    "            \n",
    "    # Drill diameters\n",
    "    surface_drill_diameter = drill_diameters[well]['Surface Drill']\n",
    "    try:\n",
    "        intermediary_drill_diameter = drill_diameters[well]['Intermediary Drill']\n",
    "    except:\n",
    "        print(f\"Well {well} does not have intermediary coating\")\n",
    "                \n",
    "    if (coating_locations[well]['Intermediary Coating'] is not None):\n",
    "        bins = [surface_coating_location, intermediary_coating_location, float('inf')]\n",
    "        labels = [surface_drill_diameter, intermediary_drill_diameter]\n",
    "    else:\n",
    "        bins = [surface_coating_location, float('inf')]\n",
    "        labels = [surface_drill_diameter]\n",
    "    \n",
    "    for logical_file, lf_dict in w_dict.items():\n",
    "        for frame, df in lf_dict.items():\n",
    "            try:\n",
    "                df['BS'] = pd.cut(df['TDEP'], bins=bins, labels=labels, right=False)\n",
    "            except Exception as e:\n",
    "                print(f\"Exception with the well {well}: {e}\")"
   ]
  },
  {
   "cell_type": "markdown",
   "metadata": {},
   "source": [
    "### Export the data to CSV files"
   ]
  },
  {
   "cell_type": "code",
   "execution_count": 11,
   "metadata": {},
   "outputs": [],
   "source": [
    "dfs_to_csv(csv_data, \"../data/dlis_preprocessed\")"
   ]
  }
 ],
 "metadata": {
  "kernelspec": {
   "display_name": "venv",
   "language": "python",
   "name": "python3"
  },
  "language_info": {
   "codemirror_mode": {
    "name": "ipython",
    "version": 3
   },
   "file_extension": ".py",
   "mimetype": "text/x-python",
   "name": "python",
   "nbconvert_exporter": "python",
   "pygments_lexer": "ipython3",
   "version": "3.12.7"
  }
 },
 "nbformat": 4,
 "nbformat_minor": 2
}
