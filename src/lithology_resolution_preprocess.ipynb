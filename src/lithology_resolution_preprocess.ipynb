{
 "cells": [
  {
   "cell_type": "code",
   "execution_count": 1,
   "id": "8fdc8dfa",
   "metadata": {},
   "outputs": [],
   "source": [
    "import pandas as pd\n",
    "import numpy as np"
   ]
  },
  {
   "cell_type": "markdown",
   "id": "56bbac1c",
   "metadata": {},
   "source": [
    "### Load the CSV with the lithology data into a DataFrame"
   ]
  },
  {
   "cell_type": "code",
   "execution_count": 2,
   "id": "3a5577ad",
   "metadata": {},
   "outputs": [],
   "source": [
    "df_lithology = pd.read_csv(\"lithology_3_BRSA_778_SE.csv\")"
   ]
  },
  {
   "cell_type": "markdown",
   "id": "843d3aa1",
   "metadata": {},
   "source": [
    "### Generate 1cm interval"
   ]
  },
  {
   "cell_type": "code",
   "execution_count": 4,
   "id": "df865165",
   "metadata": {},
   "outputs": [],
   "source": [
    "min_depth = df_lithology['TDEP'].min()\n",
    "max_depth = df_lithology['TDEP'].max()\n",
    "\n",
    "new_tdep = np.round(np.arange(min_depth, max_depth + 0.001, 0.01), 2)"
   ]
  },
  {
   "cell_type": "code",
   "execution_count": 16,
   "id": "32e37d51",
   "metadata": {},
   "outputs": [
    {
     "data": {
      "text/plain": [
       "'CALCARENITO'"
      ]
     },
     "execution_count": 16,
     "metadata": {},
     "output_type": "execute_result"
    }
   ],
   "source": [
    "df_lithology[df_lithology['TDEP'] == 96.5]['LITOLOGIA'].values[0]"
   ]
  },
  {
   "cell_type": "code",
   "execution_count": 21,
   "id": "7d28d0c5",
   "metadata": {},
   "outputs": [
    {
     "data": {
      "text/html": [
       "<div>\n",
       "<style scoped>\n",
       "    .dataframe tbody tr th:only-of-type {\n",
       "        vertical-align: middle;\n",
       "    }\n",
       "\n",
       "    .dataframe tbody tr th {\n",
       "        vertical-align: top;\n",
       "    }\n",
       "\n",
       "    .dataframe thead th {\n",
       "        text-align: right;\n",
       "    }\n",
       "</style>\n",
       "<table border=\"1\" class=\"dataframe\">\n",
       "  <thead>\n",
       "    <tr style=\"text-align: right;\">\n",
       "      <th></th>\n",
       "      <th>TDEP</th>\n",
       "      <th>LITOLOGIA</th>\n",
       "    </tr>\n",
       "  </thead>\n",
       "  <tbody>\n",
       "    <tr>\n",
       "      <th>966</th>\n",
       "      <td>96.6</td>\n",
       "      <td>CALCARENITO</td>\n",
       "    </tr>\n",
       "  </tbody>\n",
       "</table>\n",
       "</div>"
      ],
      "text/plain": [
       "     TDEP    LITOLOGIA\n",
       "966  96.6  CALCARENITO"
      ]
     },
     "execution_count": 21,
     "metadata": {},
     "output_type": "execute_result"
    }
   ],
   "source": [
    "below = df_lithology[df_lithology['TDEP'] > 96.57].head(1)\n",
    "below"
   ]
  },
  {
   "cell_type": "code",
   "execution_count": 23,
   "id": "3d35008d",
   "metadata": {},
   "outputs": [],
   "source": [
    "results = []\n",
    "\n",
    "for depth in new_tdep:\n",
    "    if depth in df_lithology['TDEP'].values:\n",
    "        lithology = df_lithology[df_lithology['TDEP'] == depth]['LITOLOGIA'].values[0]\n",
    "    else:\n",
    "        below = df_lithology[df_lithology['TDEP'] < depth].tail(1)\n",
    "        above = df_lithology[df_lithology['TDEP'] > depth].head(1)\n",
    "\n",
    "        if below.empty or above.empty:\n",
    "            lithology = np.nan\n",
    "        else:\n",
    "            mid = round((below['TDEP'].values[0] + above['TDEP'].values[0]) / 2, 2)\n",
    "\n",
    "            if depth < mid:\n",
    "                lithology = below['LITOLOGIA'].values[0]\n",
    "            else:\n",
    "                lithology = above['LITOLOGIA'].values[0]\n",
    "    \n",
    "    results.append([depth, lithology])"
   ]
  },
  {
   "cell_type": "code",
   "execution_count": 24,
   "id": "9692116a",
   "metadata": {},
   "outputs": [],
   "source": [
    "df_results = pd.DataFrame(results, columns=['TDEP', 'Lithology'])"
   ]
  },
  {
   "cell_type": "code",
   "execution_count": 26,
   "id": "dd799d4f",
   "metadata": {},
   "outputs": [],
   "source": [
    "df_results.to_csv(\"lithology_res_preprocess.csv\", index=False)"
   ]
  }
 ],
 "metadata": {
  "kernelspec": {
   "display_name": "venv",
   "language": "python",
   "name": "python3"
  },
  "language_info": {
   "codemirror_mode": {
    "name": "ipython",
    "version": 3
   },
   "file_extension": ".py",
   "mimetype": "text/x-python",
   "name": "python",
   "nbconvert_exporter": "python",
   "pygments_lexer": "ipython3",
   "version": "3.12.7"
  }
 },
 "nbformat": 4,
 "nbformat_minor": 5
}
