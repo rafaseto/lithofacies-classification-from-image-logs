{
 "cells": [
  {
   "cell_type": "code",
   "execution_count": 1,
   "metadata": {},
   "outputs": [],
   "source": [
    "from utils.data_preprocessing import *\n",
    "import pandas as pd"
   ]
  },
  {
   "cell_type": "code",
   "execution_count": 2,
   "metadata": {},
   "outputs": [],
   "source": [
    "spliced_rhob_data = load_spliced_csv_files('../data/dlis_spliced/RHOB')\n",
    "spliced_dt_data = load_spliced_csv_files('../data/dlis_spliced/DT')\n",
    "spliced_data = load_spliced_csv_files('../data/dlis_spliced/GR_ILD')"
   ]
  },
  {
   "cell_type": "code",
   "execution_count": 3,
   "metadata": {},
   "outputs": [],
   "source": [
    "merged_df_csc = pd.merge(\n",
    "    spliced_data['1CSC 0001  SE.csv'], \n",
    "    spliced_dt_data['1CSC 0001  SE.csv'],\n",
    "    on=\"TDEP\",\n",
    "    how=\"inner\"\n",
    ")\n",
    "\n",
    "merged_df_csc = pd.merge(\n",
    "    merged_df_csc,\n",
    "    spliced_rhob_data['1CSC 0001  SE.csv'],\n",
    "    on=\"TDEP\",\n",
    "    how=\"inner\"\n",
    ")"
   ]
  },
  {
   "cell_type": "code",
   "execution_count": 4,
   "metadata": {},
   "outputs": [],
   "source": [
    "merged_df_iv = pd.merge(\n",
    "    spliced_data['1IV  0002  SE.csv'], \n",
    "    spliced_dt_data['1IV  0002  SE.csv'],\n",
    "    on=\"TDEP\",\n",
    "    how=\"inner\"\n",
    ")\n",
    "\n",
    "merged_df_iv = pd.merge(\n",
    "    merged_df_iv,\n",
    "    spliced_rhob_data['1IV  0002  SE.csv'],\n",
    "    on=\"TDEP\",\n",
    "    how=\"inner\"\n",
    ")"
   ]
  },
  {
   "cell_type": "code",
   "execution_count": 8,
   "metadata": {},
   "outputs": [],
   "source": [
    "# Create the full file path for saving the CSV\n",
    "file_path = f\"../data/dlis_unified/1IV  0002  SE.csv\"\n",
    "                \n",
    "# Ensure the directories exist before saving the CSV\n",
    "os.makedirs(os.path.dirname(file_path), exist_ok=True)\n",
    "\n",
    "merged_df_csc.to_csv(file_path, index=False)"
   ]
  }
 ],
 "metadata": {
  "kernelspec": {
   "display_name": "venv",
   "language": "python",
   "name": "python3"
  },
  "language_info": {
   "codemirror_mode": {
    "name": "ipython",
    "version": 3
   },
   "file_extension": ".py",
   "mimetype": "text/x-python",
   "name": "python",
   "nbconvert_exporter": "python",
   "pygments_lexer": "ipython3",
   "version": "3.12.7"
  }
 },
 "nbformat": 4,
 "nbformat_minor": 2
}
